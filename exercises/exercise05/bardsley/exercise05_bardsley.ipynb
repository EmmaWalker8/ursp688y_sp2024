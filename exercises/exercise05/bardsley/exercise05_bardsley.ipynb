{
  "cells": [
    {
      "cell_type": "markdown",
      "id": "64cfc94b-7f4c-44d0-a738-dcf75ca56307",
      "metadata": {
        "id": "64cfc94b-7f4c-44d0-a738-dcf75ca56307"
      },
      "source": [
        "Urban Data Science & Smart Cities <br>\n",
        "URSP688Y <br>\n",
        "Instructor: Chester Harvey <br>\n",
        "Urban Studies & Planning <br>\n",
        "National Center for Smart Growth <br>\n",
        "University of Maryland"
      ]
    },
    {
      "cell_type": "markdown",
      "id": "40140710-dbbb-4249-99bb-bb317297a1cd",
      "metadata": {
        "id": "40140710-dbbb-4249-99bb-bb317297a1cd"
      },
      "source": [
        "[<img src=\"https://colab.research.google.com/assets/colab-badge.svg\">](https://colab.research.google.com/github/ncsg/ursp688y_sp2024/blob/main/exercises/exercise05/exercise05.ipynb)"
      ]
    },
    {
      "cell_type": "markdown",
      "id": "4dbe22dc-a58d-4a1b-a106-dd923f988e5b",
      "metadata": {
        "id": "4dbe22dc-a58d-4a1b-a106-dd923f988e5b"
      },
      "source": [
        "# Exercise 5\n",
        "\n",
        "## Problem\n",
        "\n",
        "So far, we've been examining affordable housing in DC with summary tables. Some of you have figured out how to incorporate graphic variables into these tables, using color to highlight minimums and maximums (good Googling!). However, we can often communicate much more convincingly, and even see patterns better ourselves, by making charts.\n",
        "\n",
        "For this week's exercise, please:\n",
        "\n",
        "- Write a function that makes a plot communicating a valuable statistic about affordable housing in each ward. You get to choose what's most valuable to show.\n",
        "- The function should take an argument to filter by project status so it can be used to generate a plot representing projects that are either completed, under construction, or in the pipeline. (The same generalized function should be able to represent projects with any status.)\n",
        "    - Optional: Can you specify the argument so it's also easy to see data for projects with all three statuses at once?\n",
        "    - Optional: The function may also take additional arguments for whatever customization you think would be valuable for an end-user.\n",
        "- The function should be stored in a module, loaded into a notebook, and called at least once in the notebook to demonstrate it.\n",
        "- Please make a pull request with a folder containing your module (`.py` file), notebook (`.ipynb` file), any CSV files your analysis depends on, and any additional graphics files.\n",
        "\n",
        "Bonus: Make it even better by exporting one plot to Illustrator or another software and fine-tuning it. Then include it in your PR folder and use markdown to show the resulting graphic in your notebook. (Hint: I demonstrate how to do this with markdown in the demo05 notebook.)\n",
        "\n",
        "## Data\n",
        "\n",
        "CSVs for the affordable housing dataset and ward census data are included on GitHub at `exercises/exercise05`. Please feel free to draw on other datasets, though this is not required. If you do use other data, please cite them, preferably with links, with markdown in your notebook or through comments in your code.\n"
      ]
    },
    {
      "cell_type": "code",
      "source": [
        "import Ex5Mod"
      ],
      "metadata": {
        "id": "2iTE0IrU0tQR"
      },
      "id": "2iTE0IrU0tQR",
      "execution_count": null,
      "outputs": []
    },
    {
      "cell_type": "code",
      "source": [
        "Ex5Mod.ward_affordable_sum_graph(['AFFORDABLE_UNITS_AT_0_30_AMI','AFFORDABLE_UNITS_AT_31_50_AMI','AFFORDABLE_UNITS_AT_51_60_AMI'],'Pipeline')"
      ],
      "metadata": {
        "id": "-L5iDvLU0qpc"
      },
      "id": "-L5iDvLU0qpc",
      "execution_count": null,
      "outputs": []
    }
  ],
  "metadata": {
    "kernelspec": {
      "display_name": "Python 3 (ipykernel)",
      "language": "python",
      "name": "python3"
    },
    "language_info": {
      "codemirror_mode": {
        "name": "ipython",
        "version": 3
      },
      "file_extension": ".py",
      "mimetype": "text/x-python",
      "name": "python",
      "nbconvert_exporter": "python",
      "pygments_lexer": "ipython3",
      "version": "3.10.12"
    },
    "colab": {
      "provenance": []
    }
  },
  "nbformat": 4,
  "nbformat_minor": 5
}