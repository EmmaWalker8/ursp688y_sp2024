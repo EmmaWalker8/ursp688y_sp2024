{
  "cells": [
    {
      "cell_type": "markdown",
      "metadata": {
        "id": "view-in-github",
        "colab_type": "text"
      },
      "source": [
        "<a href=\"https://colab.research.google.com/github/EmmaWalker8/ursp688y_sp2024/blob/main/exercises/exercise06/Exercise06_Walker.ipynb\" target=\"_parent\"><img src=\"https://colab.research.google.com/assets/colab-badge.svg\" alt=\"Open In Colab\"/></a>"
      ]
    },
    {
      "cell_type": "markdown",
      "id": "64cfc94b-7f4c-44d0-a738-dcf75ca56307",
      "metadata": {
        "id": "64cfc94b-7f4c-44d0-a738-dcf75ca56307"
      },
      "source": [
        "Urban Data Science & Smart Cities <br>\n",
        "URSP688Y <br>\n",
        "Instructor: Chester Harvey <br>\n",
        "Urban Studies & Planning <br>\n",
        "National Center for Smart Growth <br>\n",
        "University of Maryland"
      ]
    },
    {
      "cell_type": "markdown",
      "id": "40140710-dbbb-4249-99bb-bb317297a1cd",
      "metadata": {
        "id": "40140710-dbbb-4249-99bb-bb317297a1cd"
      },
      "source": [
        "[<img src=\"https://colab.research.google.com/assets/colab-badge.svg\">](https://colab.research.google.com/github/ncsg/ursp688y_sp2024/blob/main/exercises/exercise06/exercise06.ipynb)"
      ]
    },
    {
      "cell_type": "markdown",
      "id": "4dbe22dc-a58d-4a1b-a106-dd923f988e5b",
      "metadata": {
        "id": "4dbe22dc-a58d-4a1b-a106-dd923f988e5b"
      },
      "source": [
        "# Exercise 6\n",
        "\n",
        "## Problem\n",
        "\n",
        "In class this week, we saw how to access real-time data about Capital Bikeshare from the internet using their API. We also dealt with the challenge of wrangling those data. We needed to parse a JSON file into a table, and we considered how we might retrieve, store, and combine many JSONs in order to understand how bike availability changed over time.\n",
        "\n",
        "These real-time data can help us answer questions about how well Captial Bikeshare is being utilized.\n",
        "\n",
        "See if you can use data from the API (I have already stored and combined it--see below) answer these questions:\n",
        "- How many bikes were available within the system during each hour over a 24 hour period?\n",
        "    - Can you graph this over time?\n",
        "    - Which hour of the day were bikes most available? Least available?\n",
        "\n",
        "**Bonus:** Can you write a function to estimate how many bikes are <ins>currently being used</ins>, whenever you call the function? This will require loading real-time data from the API and comparing it to stored data.\n",
        "\n",
        "## Data\n",
        "\n",
        "I wrote a script, which you can see [here](https://github.com/ncsg/ursp688y_sp2024/blob/main/demos/demo06/cabi_data/get_cabi_free_bikes.py), to retrieve and store JSON data from the `free_bike_status` table in [Capital Bikeshare's](https://capitalbikeshare.com/system-data) GBFS feed every 5 minutes. I ran this script on my computer for a bit more than 24 hours. ([Here's a tutorial](https://realpython.com/run-python-scripts/) on running scripts on the command line, if you're curious.) All of those JSONS are available for you to use. They're stored at [`ursp688y_sp2024/demos/demo06/cabi_data`](https://github.com/ncsg/ursp688y_sp2024/tree/main/demos/demo06/cabi_data).\n",
        "\n",
        "## Building Off of the Demo\n",
        "\n",
        "The in-class demo gave us a starting point for how to access real-time JSON data from the API, load saved JSON data, and parse JSON data into a DataFrame.\n",
        "\n",
        "I have copied what we did in class below and added onto it to develop a single tidy dataframe with records from all the saved JSONs, plus timestamps. This should be all the data you need for the questions above (except the bonus).\n",
        "\n",
        "See if you can follow my code, then build onto it.\n",
        "\n",
        "As usual, please wrap the code for your solution in a function, and put that function into a module (you can add to my module, or make a new one if you prefer). Then load your main function from the module and call it in the notebook to demonstrate your solution.\n"
      ]
    },
    {
      "cell_type": "markdown",
      "source": [
        "# Setup"
      ],
      "metadata": {
        "id": "IF2xHjZR6GtE"
      },
      "id": "IF2xHjZR6GtE"
    },
    {
      "cell_type": "code",
      "execution_count": null,
      "id": "270729b1-57eb-429e-92e4-2320838f2415",
      "metadata": {
        "id": "270729b1-57eb-429e-92e4-2320838f2415"
      },
      "outputs": [],
      "source": [
        "# Import packages and modules\n",
        "import json\n",
        "import requests\n",
        "import os\n",
        "import pandas as pd\n",
        "\n",
        "import exercise06"
      ]
    },
    {
      "cell_type": "code",
      "source": [
        "# Mount Google Drive\n",
        "from google.colab import drive\n",
        "drive.mount('/content/drive')"
      ],
      "metadata": {
        "id": "m1rKgy8l5zV4",
        "outputId": "fe2b8d4a-214a-41ff-a332-9873e659fa4f",
        "colab": {
          "base_uri": "https://localhost:8080/"
        }
      },
      "id": "m1rKgy8l5zV4",
      "execution_count": null,
      "outputs": [
        {
          "output_type": "stream",
          "name": "stdout",
          "text": [
            "Mounted at /content/drive\n"
          ]
        }
      ]
    },
    {
      "cell_type": "code",
      "source": [
        "# Set the working directory\n",
        "# You will need to change this to your own folder on Google Drive\n",
        "os.chdir('/content/drive/MyDrive/Teaching/URSP688Y Spring 2024/Exercise Demos/exercise06')"
      ],
      "metadata": {
        "id": "MfUIeGAn509B"
      },
      "id": "MfUIeGAn509B",
      "execution_count": null,
      "outputs": []
    },
    {
      "cell_type": "markdown",
      "source": [
        "# Request current data from the API"
      ],
      "metadata": {
        "id": "SA3ESbhb6JPG"
      },
      "id": "SA3ESbhb6JPG"
    },
    {
      "cell_type": "code",
      "source": [
        "# Making a get request\n",
        "response = requests.get('https://gbfs.lyft.com/gbfs/1.1/dca-cabi/en/free_bike_status.json')\n",
        "\n",
        "# Get JSON content\n",
        "data = response.json()\n",
        "\n",
        "# Inspect the contents\n",
        "data.keys()"
      ],
      "metadata": {
        "id": "suTX-3YQ6E1C",
        "outputId": "45f3643c-2a3b-4d81-b772-409880d455cd",
        "colab": {
          "base_uri": "https://localhost:8080/"
        }
      },
      "id": "suTX-3YQ6E1C",
      "execution_count": null,
      "outputs": [
        {
          "output_type": "execute_result",
          "data": {
            "text/plain": [
              "dict_keys(['data', 'last_updated', 'ttl', 'version'])"
            ]
          },
          "metadata": {},
          "execution_count": 4
        }
      ]
    },
    {
      "cell_type": "code",
      "source": [
        "# Make a dataframe out of data for available bikes\n",
        "df = pd.DataFrame(data['data']['bikes'])\n",
        "\n",
        "df.head()"
      ],
      "metadata": {
        "id": "m1sNkyI86h46",
        "outputId": "67931551-b318-4722-89f1-946b1f9583a9",
        "colab": {
          "base_uri": "https://localhost:8080/",
          "height": 293
        }
      },
      "id": "m1sNkyI86h46",
      "execution_count": null,
      "outputs": [
        {
          "output_type": "execute_result",
          "data": {
            "text/plain": [
              "            type  fusion_lat        lon                           bike_id  \\\n",
              "0  electric_bike         0.0 -76.940127  fc02aae4aca57dbd6414368e3cea29e1   \n",
              "1  electric_bike         0.0 -77.049662  00677c29d7827cdbc8d9ce020e430952   \n",
              "2  electric_bike         0.0 -77.045894  32fb0c045ba029b131e89846fbb47ddc   \n",
              "3  electric_bike         0.0 -77.147678  2d698429b86315064e6211d75ade27b9   \n",
              "4  electric_bike         0.0 -77.002738  c704f9f6475b1d3decaac6f2566a7822   \n",
              "\n",
              "   is_disabled  is_reserved  \\\n",
              "0            0            0   \n",
              "1            0            0   \n",
              "2            0            0   \n",
              "3            0            0   \n",
              "4            0            0   \n",
              "\n",
              "                                         rental_uris  fusion_lon     name  \\\n",
              "0  {'android': 'https://dc.lft.to/lastmile_qr_sca...         0.0  570-760   \n",
              "1  {'android': 'https://dc.lft.to/lastmile_qr_sca...         0.0  268-224   \n",
              "2  {'android': 'https://dc.lft.to/lastmile_qr_sca...         0.0  329-768   \n",
              "3  {'android': 'https://dc.lft.to/lastmile_qr_sca...         0.0  201-455   \n",
              "4  {'android': 'https://dc.lft.to/lastmile_qr_sca...         0.0  361-062   \n",
              "\n",
              "         lat  \n",
              "0  38.955433  \n",
              "1  38.896053  \n",
              "2  38.902572  \n",
              "3  38.863933  \n",
              "4  38.960355  "
            ],
            "text/html": [
              "\n",
              "  <div id=\"df-46441467-bd5b-4d3e-b08d-3757f4b5aba8\" class=\"colab-df-container\">\n",
              "    <div>\n",
              "<style scoped>\n",
              "    .dataframe tbody tr th:only-of-type {\n",
              "        vertical-align: middle;\n",
              "    }\n",
              "\n",
              "    .dataframe tbody tr th {\n",
              "        vertical-align: top;\n",
              "    }\n",
              "\n",
              "    .dataframe thead th {\n",
              "        text-align: right;\n",
              "    }\n",
              "</style>\n",
              "<table border=\"1\" class=\"dataframe\">\n",
              "  <thead>\n",
              "    <tr style=\"text-align: right;\">\n",
              "      <th></th>\n",
              "      <th>type</th>\n",
              "      <th>fusion_lat</th>\n",
              "      <th>lon</th>\n",
              "      <th>bike_id</th>\n",
              "      <th>is_disabled</th>\n",
              "      <th>is_reserved</th>\n",
              "      <th>rental_uris</th>\n",
              "      <th>fusion_lon</th>\n",
              "      <th>name</th>\n",
              "      <th>lat</th>\n",
              "    </tr>\n",
              "  </thead>\n",
              "  <tbody>\n",
              "    <tr>\n",
              "      <th>0</th>\n",
              "      <td>electric_bike</td>\n",
              "      <td>0.0</td>\n",
              "      <td>-76.940127</td>\n",
              "      <td>fc02aae4aca57dbd6414368e3cea29e1</td>\n",
              "      <td>0</td>\n",
              "      <td>0</td>\n",
              "      <td>{'android': 'https://dc.lft.to/lastmile_qr_sca...</td>\n",
              "      <td>0.0</td>\n",
              "      <td>570-760</td>\n",
              "      <td>38.955433</td>\n",
              "    </tr>\n",
              "    <tr>\n",
              "      <th>1</th>\n",
              "      <td>electric_bike</td>\n",
              "      <td>0.0</td>\n",
              "      <td>-77.049662</td>\n",
              "      <td>00677c29d7827cdbc8d9ce020e430952</td>\n",
              "      <td>0</td>\n",
              "      <td>0</td>\n",
              "      <td>{'android': 'https://dc.lft.to/lastmile_qr_sca...</td>\n",
              "      <td>0.0</td>\n",
              "      <td>268-224</td>\n",
              "      <td>38.896053</td>\n",
              "    </tr>\n",
              "    <tr>\n",
              "      <th>2</th>\n",
              "      <td>electric_bike</td>\n",
              "      <td>0.0</td>\n",
              "      <td>-77.045894</td>\n",
              "      <td>32fb0c045ba029b131e89846fbb47ddc</td>\n",
              "      <td>0</td>\n",
              "      <td>0</td>\n",
              "      <td>{'android': 'https://dc.lft.to/lastmile_qr_sca...</td>\n",
              "      <td>0.0</td>\n",
              "      <td>329-768</td>\n",
              "      <td>38.902572</td>\n",
              "    </tr>\n",
              "    <tr>\n",
              "      <th>3</th>\n",
              "      <td>electric_bike</td>\n",
              "      <td>0.0</td>\n",
              "      <td>-77.147678</td>\n",
              "      <td>2d698429b86315064e6211d75ade27b9</td>\n",
              "      <td>0</td>\n",
              "      <td>0</td>\n",
              "      <td>{'android': 'https://dc.lft.to/lastmile_qr_sca...</td>\n",
              "      <td>0.0</td>\n",
              "      <td>201-455</td>\n",
              "      <td>38.863933</td>\n",
              "    </tr>\n",
              "    <tr>\n",
              "      <th>4</th>\n",
              "      <td>electric_bike</td>\n",
              "      <td>0.0</td>\n",
              "      <td>-77.002738</td>\n",
              "      <td>c704f9f6475b1d3decaac6f2566a7822</td>\n",
              "      <td>0</td>\n",
              "      <td>0</td>\n",
              "      <td>{'android': 'https://dc.lft.to/lastmile_qr_sca...</td>\n",
              "      <td>0.0</td>\n",
              "      <td>361-062</td>\n",
              "      <td>38.960355</td>\n",
              "    </tr>\n",
              "  </tbody>\n",
              "</table>\n",
              "</div>\n",
              "    <div class=\"colab-df-buttons\">\n",
              "\n",
              "  <div class=\"colab-df-container\">\n",
              "    <button class=\"colab-df-convert\" onclick=\"convertToInteractive('df-46441467-bd5b-4d3e-b08d-3757f4b5aba8')\"\n",
              "            title=\"Convert this dataframe to an interactive table.\"\n",
              "            style=\"display:none;\">\n",
              "\n",
              "  <svg xmlns=\"http://www.w3.org/2000/svg\" height=\"24px\" viewBox=\"0 -960 960 960\">\n",
              "    <path d=\"M120-120v-720h720v720H120Zm60-500h600v-160H180v160Zm220 220h160v-160H400v160Zm0 220h160v-160H400v160ZM180-400h160v-160H180v160Zm440 0h160v-160H620v160ZM180-180h160v-160H180v160Zm440 0h160v-160H620v160Z\"/>\n",
              "  </svg>\n",
              "    </button>\n",
              "\n",
              "  <style>\n",
              "    .colab-df-container {\n",
              "      display:flex;\n",
              "      gap: 12px;\n",
              "    }\n",
              "\n",
              "    .colab-df-convert {\n",
              "      background-color: #E8F0FE;\n",
              "      border: none;\n",
              "      border-radius: 50%;\n",
              "      cursor: pointer;\n",
              "      display: none;\n",
              "      fill: #1967D2;\n",
              "      height: 32px;\n",
              "      padding: 0 0 0 0;\n",
              "      width: 32px;\n",
              "    }\n",
              "\n",
              "    .colab-df-convert:hover {\n",
              "      background-color: #E2EBFA;\n",
              "      box-shadow: 0px 1px 2px rgba(60, 64, 67, 0.3), 0px 1px 3px 1px rgba(60, 64, 67, 0.15);\n",
              "      fill: #174EA6;\n",
              "    }\n",
              "\n",
              "    .colab-df-buttons div {\n",
              "      margin-bottom: 4px;\n",
              "    }\n",
              "\n",
              "    [theme=dark] .colab-df-convert {\n",
              "      background-color: #3B4455;\n",
              "      fill: #D2E3FC;\n",
              "    }\n",
              "\n",
              "    [theme=dark] .colab-df-convert:hover {\n",
              "      background-color: #434B5C;\n",
              "      box-shadow: 0px 1px 3px 1px rgba(0, 0, 0, 0.15);\n",
              "      filter: drop-shadow(0px 1px 2px rgba(0, 0, 0, 0.3));\n",
              "      fill: #FFFFFF;\n",
              "    }\n",
              "  </style>\n",
              "\n",
              "    <script>\n",
              "      const buttonEl =\n",
              "        document.querySelector('#df-46441467-bd5b-4d3e-b08d-3757f4b5aba8 button.colab-df-convert');\n",
              "      buttonEl.style.display =\n",
              "        google.colab.kernel.accessAllowed ? 'block' : 'none';\n",
              "\n",
              "      async function convertToInteractive(key) {\n",
              "        const element = document.querySelector('#df-46441467-bd5b-4d3e-b08d-3757f4b5aba8');\n",
              "        const dataTable =\n",
              "          await google.colab.kernel.invokeFunction('convertToInteractive',\n",
              "                                                    [key], {});\n",
              "        if (!dataTable) return;\n",
              "\n",
              "        const docLinkHtml = 'Like what you see? Visit the ' +\n",
              "          '<a target=\"_blank\" href=https://colab.research.google.com/notebooks/data_table.ipynb>data table notebook</a>'\n",
              "          + ' to learn more about interactive tables.';\n",
              "        element.innerHTML = '';\n",
              "        dataTable['output_type'] = 'display_data';\n",
              "        await google.colab.output.renderOutput(dataTable, element);\n",
              "        const docLink = document.createElement('div');\n",
              "        docLink.innerHTML = docLinkHtml;\n",
              "        element.appendChild(docLink);\n",
              "      }\n",
              "    </script>\n",
              "  </div>\n",
              "\n",
              "\n",
              "<div id=\"df-cf09aa58-1768-426e-a60e-0fef1d8455d3\">\n",
              "  <button class=\"colab-df-quickchart\" onclick=\"quickchart('df-cf09aa58-1768-426e-a60e-0fef1d8455d3')\"\n",
              "            title=\"Suggest charts\"\n",
              "            style=\"display:none;\">\n",
              "\n",
              "<svg xmlns=\"http://www.w3.org/2000/svg\" height=\"24px\"viewBox=\"0 0 24 24\"\n",
              "     width=\"24px\">\n",
              "    <g>\n",
              "        <path d=\"M19 3H5c-1.1 0-2 .9-2 2v14c0 1.1.9 2 2 2h14c1.1 0 2-.9 2-2V5c0-1.1-.9-2-2-2zM9 17H7v-7h2v7zm4 0h-2V7h2v10zm4 0h-2v-4h2v4z\"/>\n",
              "    </g>\n",
              "</svg>\n",
              "  </button>\n",
              "\n",
              "<style>\n",
              "  .colab-df-quickchart {\n",
              "      --bg-color: #E8F0FE;\n",
              "      --fill-color: #1967D2;\n",
              "      --hover-bg-color: #E2EBFA;\n",
              "      --hover-fill-color: #174EA6;\n",
              "      --disabled-fill-color: #AAA;\n",
              "      --disabled-bg-color: #DDD;\n",
              "  }\n",
              "\n",
              "  [theme=dark] .colab-df-quickchart {\n",
              "      --bg-color: #3B4455;\n",
              "      --fill-color: #D2E3FC;\n",
              "      --hover-bg-color: #434B5C;\n",
              "      --hover-fill-color: #FFFFFF;\n",
              "      --disabled-bg-color: #3B4455;\n",
              "      --disabled-fill-color: #666;\n",
              "  }\n",
              "\n",
              "  .colab-df-quickchart {\n",
              "    background-color: var(--bg-color);\n",
              "    border: none;\n",
              "    border-radius: 50%;\n",
              "    cursor: pointer;\n",
              "    display: none;\n",
              "    fill: var(--fill-color);\n",
              "    height: 32px;\n",
              "    padding: 0;\n",
              "    width: 32px;\n",
              "  }\n",
              "\n",
              "  .colab-df-quickchart:hover {\n",
              "    background-color: var(--hover-bg-color);\n",
              "    box-shadow: 0 1px 2px rgba(60, 64, 67, 0.3), 0 1px 3px 1px rgba(60, 64, 67, 0.15);\n",
              "    fill: var(--button-hover-fill-color);\n",
              "  }\n",
              "\n",
              "  .colab-df-quickchart-complete:disabled,\n",
              "  .colab-df-quickchart-complete:disabled:hover {\n",
              "    background-color: var(--disabled-bg-color);\n",
              "    fill: var(--disabled-fill-color);\n",
              "    box-shadow: none;\n",
              "  }\n",
              "\n",
              "  .colab-df-spinner {\n",
              "    border: 2px solid var(--fill-color);\n",
              "    border-color: transparent;\n",
              "    border-bottom-color: var(--fill-color);\n",
              "    animation:\n",
              "      spin 1s steps(1) infinite;\n",
              "  }\n",
              "\n",
              "  @keyframes spin {\n",
              "    0% {\n",
              "      border-color: transparent;\n",
              "      border-bottom-color: var(--fill-color);\n",
              "      border-left-color: var(--fill-color);\n",
              "    }\n",
              "    20% {\n",
              "      border-color: transparent;\n",
              "      border-left-color: var(--fill-color);\n",
              "      border-top-color: var(--fill-color);\n",
              "    }\n",
              "    30% {\n",
              "      border-color: transparent;\n",
              "      border-left-color: var(--fill-color);\n",
              "      border-top-color: var(--fill-color);\n",
              "      border-right-color: var(--fill-color);\n",
              "    }\n",
              "    40% {\n",
              "      border-color: transparent;\n",
              "      border-right-color: var(--fill-color);\n",
              "      border-top-color: var(--fill-color);\n",
              "    }\n",
              "    60% {\n",
              "      border-color: transparent;\n",
              "      border-right-color: var(--fill-color);\n",
              "    }\n",
              "    80% {\n",
              "      border-color: transparent;\n",
              "      border-right-color: var(--fill-color);\n",
              "      border-bottom-color: var(--fill-color);\n",
              "    }\n",
              "    90% {\n",
              "      border-color: transparent;\n",
              "      border-bottom-color: var(--fill-color);\n",
              "    }\n",
              "  }\n",
              "</style>\n",
              "\n",
              "  <script>\n",
              "    async function quickchart(key) {\n",
              "      const quickchartButtonEl =\n",
              "        document.querySelector('#' + key + ' button');\n",
              "      quickchartButtonEl.disabled = true;  // To prevent multiple clicks.\n",
              "      quickchartButtonEl.classList.add('colab-df-spinner');\n",
              "      try {\n",
              "        const charts = await google.colab.kernel.invokeFunction(\n",
              "            'suggestCharts', [key], {});\n",
              "      } catch (error) {\n",
              "        console.error('Error during call to suggestCharts:', error);\n",
              "      }\n",
              "      quickchartButtonEl.classList.remove('colab-df-spinner');\n",
              "      quickchartButtonEl.classList.add('colab-df-quickchart-complete');\n",
              "    }\n",
              "    (() => {\n",
              "      let quickchartButtonEl =\n",
              "        document.querySelector('#df-cf09aa58-1768-426e-a60e-0fef1d8455d3 button');\n",
              "      quickchartButtonEl.style.display =\n",
              "        google.colab.kernel.accessAllowed ? 'block' : 'none';\n",
              "    })();\n",
              "  </script>\n",
              "</div>\n",
              "    </div>\n",
              "  </div>\n"
            ],
            "application/vnd.google.colaboratory.intrinsic+json": {
              "type": "dataframe",
              "variable_name": "df",
              "summary": "{\n  \"name\": \"df\",\n  \"rows\": 854,\n  \"fields\": [\n    {\n      \"column\": \"type\",\n      \"properties\": {\n        \"dtype\": \"category\",\n        \"num_unique_values\": 1,\n        \"samples\": [\n          \"electric_bike\"\n        ],\n        \"semantic_type\": \"\",\n        \"description\": \"\"\n      }\n    },\n    {\n      \"column\": \"fusion_lat\",\n      \"properties\": {\n        \"dtype\": \"number\",\n        \"std\": 0.0,\n        \"min\": 0.0,\n        \"max\": 0.0,\n        \"num_unique_values\": 1,\n        \"samples\": [\n          0.0\n        ],\n        \"semantic_type\": \"\",\n        \"description\": \"\"\n      }\n    },\n    {\n      \"column\": \"lon\",\n      \"properties\": {\n        \"dtype\": \"number\",\n        \"std\": 0.060891965363738317,\n        \"min\": -77.349478364,\n        \"max\": -76.9001925,\n        \"num_unique_values\": 854,\n        \"samples\": [\n          -77.0028095\n        ],\n        \"semantic_type\": \"\",\n        \"description\": \"\"\n      }\n    },\n    {\n      \"column\": \"bike_id\",\n      \"properties\": {\n        \"dtype\": \"string\",\n        \"num_unique_values\": 854,\n        \"samples\": [\n          \"1098223d9b46f2b38f93310087b98652\"\n        ],\n        \"semantic_type\": \"\",\n        \"description\": \"\"\n      }\n    },\n    {\n      \"column\": \"is_disabled\",\n      \"properties\": {\n        \"dtype\": \"number\",\n        \"std\": 0,\n        \"min\": 0,\n        \"max\": 0,\n        \"num_unique_values\": 1,\n        \"samples\": [\n          0\n        ],\n        \"semantic_type\": \"\",\n        \"description\": \"\"\n      }\n    },\n    {\n      \"column\": \"is_reserved\",\n      \"properties\": {\n        \"dtype\": \"number\",\n        \"std\": 0,\n        \"min\": 0,\n        \"max\": 0,\n        \"num_unique_values\": 1,\n        \"samples\": [\n          0\n        ],\n        \"semantic_type\": \"\",\n        \"description\": \"\"\n      }\n    },\n    {\n      \"column\": \"rental_uris\",\n      \"properties\": {\n        \"dtype\": \"object\",\n        \"semantic_type\": \"\",\n        \"description\": \"\"\n      }\n    },\n    {\n      \"column\": \"fusion_lon\",\n      \"properties\": {\n        \"dtype\": \"number\",\n        \"std\": 0.0,\n        \"min\": 0.0,\n        \"max\": 0.0,\n        \"num_unique_values\": 1,\n        \"samples\": [\n          0.0\n        ],\n        \"semantic_type\": \"\",\n        \"description\": \"\"\n      }\n    },\n    {\n      \"column\": \"name\",\n      \"properties\": {\n        \"dtype\": \"string\",\n        \"num_unique_values\": 854,\n        \"samples\": [\n          \"170-695\"\n        ],\n        \"semantic_type\": \"\",\n        \"description\": \"\"\n      }\n    },\n    {\n      \"column\": \"lat\",\n      \"properties\": {\n        \"dtype\": \"number\",\n        \"std\": 0.05069400329288877,\n        \"min\": 38.768110037,\n        \"max\": 39.09825716666667,\n        \"num_unique_values\": 854,\n        \"samples\": [\n          38.90459933333333\n        ],\n        \"semantic_type\": \"\",\n        \"description\": \"\"\n      }\n    }\n  ]\n}"
            }
          },
          "metadata": {},
          "execution_count": 5
        }
      ]
    },
    {
      "cell_type": "markdown",
      "source": [
        "# Load JSON data saved in a file"
      ],
      "metadata": {
        "id": "k-XbyhmI6q6L"
      },
      "id": "k-XbyhmI6q6L"
    },
    {
      "cell_type": "code",
      "source": [
        "# open a single stored json\n",
        "with open('cabi_data/cabi_bike_status_2024-03-03_13-11-54.json') as json_data: # Notice how I added 'cabi_data/' to the front of the path to get into that subdirectory where the jsons are stored?\n",
        "    data = json.load(json_data)\n",
        "    json_data.close()"
      ],
      "metadata": {
        "id": "70SUcStI6N1U"
      },
      "id": "70SUcStI6N1U",
      "execution_count": null,
      "outputs": []
    },
    {
      "cell_type": "code",
      "source": [
        "# see how the data are stored\n",
        "type(data)"
      ],
      "metadata": {
        "id": "dPUSADSH6wu3",
        "outputId": "5d13b6cc-9adc-4e53-fa66-e611512691d1",
        "colab": {
          "base_uri": "https://localhost:8080/"
        }
      },
      "id": "dPUSADSH6wu3",
      "execution_count": null,
      "outputs": [
        {
          "output_type": "execute_result",
          "data": {
            "text/plain": [
              "dict"
            ]
          },
          "metadata": {},
          "execution_count": 8
        }
      ]
    },
    {
      "cell_type": "code",
      "source": [
        "# see what keys are available\n",
        "data.keys()"
      ],
      "metadata": {
        "id": "n_nUtw7n7AAw"
      },
      "id": "n_nUtw7n7AAw",
      "execution_count": null,
      "outputs": []
    },
    {
      "cell_type": "code",
      "source": [
        "# drill into the records for each bike\n",
        "records = data['data']['bikes']\n",
        "\n",
        "# convert to a dataframe\n",
        "df = pd.DataFrame(records)\n",
        "\n",
        "# drop a column that we won't use, just to keep things clean\n",
        "df = df.drop(columns=['rental_uris'])"
      ],
      "metadata": {
        "id": "N1AJJEM57CEz"
      },
      "id": "N1AJJEM57CEz",
      "execution_count": null,
      "outputs": []
    },
    {
      "cell_type": "code",
      "source": [
        "df.head()"
      ],
      "metadata": {
        "id": "IlNNuwgT7Dg7"
      },
      "id": "IlNNuwgT7Dg7",
      "execution_count": null,
      "outputs": []
    },
    {
      "cell_type": "markdown",
      "source": [
        "# Iteratively load all the JSON files and combine them into a single dataframe\n",
        "\n",
        "Except for the impact statements above, this is probably the only part of the code you'll need to keep. This function wraps all the loading steps. Feel free to delete the cells above if you're not using them."
      ],
      "metadata": {
        "id": "QrdZ8-Tu7Hd7"
      },
      "id": "QrdZ8-Tu7Hd7"
    },
    {
      "cell_type": "code",
      "source": [
        "df = exercise06.load_and_combine_free_bike_status_jsons_as_df('cabi_data')\n",
        "\n",
        "df.head()"
      ],
      "metadata": {
        "id": "qaZ1EkjQJisJ"
      },
      "id": "qaZ1EkjQJisJ",
      "execution_count": null,
      "outputs": []
    },
    {
      "cell_type": "markdown",
      "source": [
        "This is where you take over. Can you use this dataframe to answer the question(s) above?"
      ],
      "metadata": {
        "id": "X9uG9ubUNlbs"
      },
      "id": "X9uG9ubUNlbs"
    },
    {
      "cell_type": "code",
      "source": [
        "# Import packages and modules\n",
        "import json\n",
        "import requests\n",
        "import os\n",
        "import pandas as pd\n",
        "\n",
        "# Making a get request\n",
        "response = requests.get('https://gbfs.lyft.com/gbfs/1.1/dca-cabi/en/free_bike_status.json')\n",
        "\n",
        "# Get JSON content\n",
        "data = response.json()\n",
        "\n",
        "# Drill into the records for each bike\n",
        "bikes = data['data']['bikes']\n",
        "\n",
        "# Convert to a dataframe\n",
        "df = pd.DataFrame(bikes)\n",
        "\n",
        "# Drop a column that we won't use, just to keep things clean\n",
        "df = df.drop(columns=['rental_uris'])\n",
        "\n",
        "# Check the column names in the DataFrame\n",
        "print(\"Column Names:\", df.columns)\n",
        "\n",
        "# Assuming 'last_updated' is present, convert it to datetime and extract the hour\n",
        "if 'last_updated' in df.columns:\n",
        "    df['hour'] = pd.to_datetime(df['last_updated'], unit='s').dt.hour\n",
        "\n",
        "    # Group by hour and calculate the average available bikes\n",
        "    hourly_counts = df.groupby('hour')['num_bikes_available'].mean().to_dict()\n",
        "\n",
        "    # Plot the data\n",
        "    if hourly_counts:\n",
        "        hours = list(hourly_counts.keys())\n",
        "        average_bikes = list(hourly_counts.values())\n",
        "\n",
        "        plt.plot(hours, average_bikes, marker='o')\n",
        "        plt.title('Average Bike Availability Over 24 Hours')\n",
        "        plt.xlabel('Hour of the Day')\n",
        "        plt.ylabel('Average Available Bikes')\n",
        "        plt.show()\n",
        "    else:\n",
        "        print(\"No data to plot.\")\n",
        "else:\n",
        "    print(\"Column 'last_updated' not found in DataFrame.\")\n"
      ],
      "metadata": {
        "id": "jb6Gn6UPJcxm",
        "colab": {
          "base_uri": "https://localhost:8080/"
        },
        "outputId": "ace12888-45f6-43cf-d896-8672567136c0"
      },
      "id": "jb6Gn6UPJcxm",
      "execution_count": 4,
      "outputs": [
        {
          "output_type": "stream",
          "name": "stdout",
          "text": [
            "Column Names: Index(['name', 'is_reserved', 'is_disabled', 'bike_id', 'lon', 'fusion_lon',\n",
            "       'type', 'fusion_lat', 'lat'],\n",
            "      dtype='object')\n",
            "Column 'last_updated' not found in DataFrame.\n"
          ]
        }
      ]
    },
    {
      "cell_type": "markdown",
      "source": [],
      "metadata": {
        "id": "52s5tiFPdtEP"
      },
      "id": "52s5tiFPdtEP"
    }
  ],
  "metadata": {
    "kernelspec": {
      "display_name": "Python 3 (ipykernel)",
      "language": "python",
      "name": "python3"
    },
    "language_info": {
      "codemirror_mode": {
        "name": "ipython",
        "version": 3
      },
      "file_extension": ".py",
      "mimetype": "text/x-python",
      "name": "python",
      "nbconvert_exporter": "python",
      "pygments_lexer": "ipython3",
      "version": "3.10.12"
    },
    "colab": {
      "provenance": [],
      "include_colab_link": true
    }
  },
  "nbformat": 4,
  "nbformat_minor": 5
}