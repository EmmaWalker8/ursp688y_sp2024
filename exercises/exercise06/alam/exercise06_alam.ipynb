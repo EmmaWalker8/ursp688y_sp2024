{
 "cells": [
  {
   "cell_type": "markdown",
   "id": "64cfc94b-7f4c-44d0-a738-dcf75ca56307",
   "metadata": {
    "id": "64cfc94b-7f4c-44d0-a738-dcf75ca56307"
   },
   "source": [
    "Urban Data Science & Smart Cities <br>\n",
    "URSP688Y <br>\n",
    "Instructor: Chester Harvey <br>\n",
    "Urban Studies & Planning <br>\n",
    "National Center for Smart Growth <br>\n",
    "University of Maryland"
   ]
  },
  {
   "cell_type": "markdown",
   "id": "40140710-dbbb-4249-99bb-bb317297a1cd",
   "metadata": {
    "id": "40140710-dbbb-4249-99bb-bb317297a1cd"
   },
   "source": [
    "[<img src=\"https://colab.research.google.com/assets/colab-badge.svg\">](https://colab.research.google.com/github/ncsg/ursp688y_sp2024/blob/main/exercises/exercise06/exercise06.ipynb)"
   ]
  },
  {
   "cell_type": "markdown",
   "id": "4dbe22dc-a58d-4a1b-a106-dd923f988e5b",
   "metadata": {
    "id": "4dbe22dc-a58d-4a1b-a106-dd923f988e5b"
   },
   "source": [
    "# Exercise 6\n",
    "\n",
    "## Problem\n",
    "\n",
    "In class this week, we saw how to access real-time data about Capital Bikeshare from the internet using their API. We also dealt with the challenge of wrangling those data. We needed to parse a JSON file into a table, and we considered how we might retrieve, store, and combine many JSONs in order to understand how bike availability changed over time.\n",
    "\n",
    "These real-time data can help us answer questions about how well Captial Bikeshare is being utilized.\n",
    "\n",
    "See if you can use data from the API (I have already stored and combined it--see below) answer these questions:\n",
    "- How many bikes were available within the system during each hour over a 24 hour period?\n",
    "    - Can you graph this over time?\n",
    "    - Which hour of the day were bikes most available? Least available?\n",
    "\n",
    "**Bonus:** Can you write a function to estimate how many bikes are <ins>currently being used</ins>, whenever you call the function? This will require loading real-time data from the API and comparing it to stored data.\n",
    "\n",
    "## Data\n",
    "\n",
    "I wrote a script, which you can see [here](https://github.com/ncsg/ursp688y_sp2024/blob/main/demos/demo06/cabi_data/get_cabi_free_bikes.py), to retrieve and store JSON data from the `free_bike_status` table in [Capital Bikeshare's](https://capitalbikeshare.com/system-data) GBFS feed every 5 minutes. I ran this script on my computer for a bit more than 24 hours. ([Here's a tutorial](https://realpython.com/run-python-scripts/) on running scripts on the command line, if you're curious.) All of those JSONS are available for you to use. They're stored at [`ursp688y_sp2024/demos/demo06/cabi_data`](https://github.com/ncsg/ursp688y_sp2024/tree/main/demos/demo06/cabi_data).\n",
    "\n",
    "## Building Off of the Demo\n",
    "\n",
    "The in-class demo gave us a starting point for how to access real-time JSON data from the API, load saved JSON data, and parse JSON data into a DataFrame.\n",
    "\n",
    "I have copied what we did in class below and added onto it to develop a single tidy dataframe with records from all the saved JSONs, plus timestamps. This should be all the data you need for the questions above (except the bonus).\n",
    "\n",
    "See if you can follow my code, then build onto it.\n",
    "\n",
    "As usual, please wrap the code for your solution in a function, and put that function into a module (you can add to my module, or make a new one if you prefer). Then load your main function from the module and call it in the notebook to demonstrate your solution.\n"
   ]
  },
  {
   "cell_type": "markdown",
   "id": "IF2xHjZR6GtE",
   "metadata": {
    "id": "IF2xHjZR6GtE"
   },
   "source": [
    "# Setup"
   ]
  },
  {
   "cell_type": "code",
   "execution_count": 3,
   "id": "7693a717-3549-4fea-8fc8-f764eed92808",
   "metadata": {
    "id": "7693a717-3549-4fea-8fc8-f764eed92808"
   },
   "outputs": [],
   "source": [
    "# Import packages\n",
    "import os\n",
    "import json\n",
    "import requests\n",
    "import pandas as pd"
   ]
  },
  {
   "cell_type": "code",
   "execution_count": 2,
   "id": "nAyfIxHguXNL",
   "metadata": {
    "colab": {
     "base_uri": "https://localhost:8080/"
    },
    "id": "nAyfIxHguXNL",
    "outputId": "78c5d9ce-4e07-4447-c7b1-23308baaa307"
   },
   "outputs": [
    {
     "name": "stdout",
     "output_type": "stream",
     "text": [
      "Mounted at /content/drive\n"
     ]
    }
   ],
   "source": [
    "from google.colab import drive\n",
    "drive.mount('/content/drive')"
   ]
  },
  {
   "cell_type": "code",
   "execution_count": 3,
   "id": "5256e8e9-461f-4c0b-8825-d586bf47e046",
   "metadata": {
    "colab": {
     "base_uri": "https://localhost:8080/"
    },
    "id": "5256e8e9-461f-4c0b-8825-d586bf47e046",
    "outputId": "0a59e4c5-a1d4-424d-c97c-4a4f00717447"
   },
   "outputs": [
    {
     "name": "stdout",
     "output_type": "stream",
     "text": [
      "Drive already mounted at /content/drive; to attempt to forcibly remount, call drive.mount(\"/content/drive\", force_remount=True).\n"
     ]
    }
   ],
   "source": [
    "# Mount Google Drive\n",
    "from google.colab import drive\n",
    "drive.mount('/content/drive')"
   ]
  },
  {
   "cell_type": "code",
   "execution_count": 4,
   "id": "MfUIeGAn509B",
   "metadata": {
    "id": "MfUIeGAn509B"
   },
   "outputs": [],
   "source": [
    "# Set the working directory\n",
    "# You will need to change this to your own folder on Google Drive\n",
    "os.chdir('/content/drive/MyDrive/Spring_24_UMD_Courses/URSP 688Y/exercise06_alam')"
   ]
  },
  {
   "cell_type": "code",
   "execution_count": 4,
   "id": "270729b1-57eb-429e-92e4-2320838f2415",
   "metadata": {
    "id": "270729b1-57eb-429e-92e4-2320838f2415"
   },
   "outputs": [],
   "source": [
    "# Import module\n",
    "import exercise06"
   ]
  },
  {
   "cell_type": "markdown",
   "id": "SA3ESbhb6JPG",
   "metadata": {
    "id": "SA3ESbhb6JPG"
   },
   "source": [
    "# Request current data from the API"
   ]
  },
  {
   "cell_type": "code",
   "execution_count": 6,
   "id": "suTX-3YQ6E1C",
   "metadata": {
    "colab": {
     "base_uri": "https://localhost:8080/"
    },
    "id": "suTX-3YQ6E1C",
    "outputId": "9da30f20-31bc-4f78-8060-daa3eddf4c9a"
   },
   "outputs": [
    {
     "data": {
      "text/plain": [
       "dict_keys(['data', 'last_updated', 'ttl', 'version'])"
      ]
     },
     "execution_count": 6,
     "metadata": {},
     "output_type": "execute_result"
    }
   ],
   "source": [
    "# Making a get request\n",
    "response = requests.get('https://gbfs.lyft.com/gbfs/1.1/dca-cabi/en/free_bike_status.json')\n",
    "\n",
    "# Get JSON content\n",
    "data = response.json()\n",
    "\n",
    "# Inspect the contents\n",
    "data.keys()"
   ]
  },
  {
   "cell_type": "code",
   "execution_count": 7,
   "id": "m1sNkyI86h46",
   "metadata": {
    "colab": {
     "base_uri": "https://localhost:8080/",
     "height": 313
    },
    "id": "m1sNkyI86h46",
    "outputId": "64fa2b2a-786d-4ecf-cfb8-e097022c22ed"
   },
   "outputs": [
    {
     "data": {
      "application/vnd.google.colaboratory.intrinsic+json": {
       "summary": "{\n  \"name\": \"df\",\n  \"rows\": 902,\n  \"fields\": [\n    {\n      \"column\": \"name\",\n      \"properties\": {\n        \"dtype\": \"string\",\n        \"num_unique_values\": 902,\n        \"samples\": [\n          \"369-299\",\n          \"189-789\",\n          \"321-3816\"\n        ],\n        \"semantic_type\": \"\",\n        \"description\": \"\"\n      }\n    },\n    {\n      \"column\": \"rental_uris\",\n      \"properties\": {\n        \"dtype\": \"object\",\n        \"semantic_type\": \"\",\n        \"description\": \"\"\n      }\n    },\n    {\n      \"column\": \"is_reserved\",\n      \"properties\": {\n        \"dtype\": \"number\",\n        \"std\": 0,\n        \"min\": 0,\n        \"max\": 0,\n        \"num_unique_values\": 1,\n        \"samples\": [\n          0\n        ],\n        \"semantic_type\": \"\",\n        \"description\": \"\"\n      }\n    },\n    {\n      \"column\": \"is_disabled\",\n      \"properties\": {\n        \"dtype\": \"number\",\n        \"std\": 0,\n        \"min\": 0,\n        \"max\": 0,\n        \"num_unique_values\": 1,\n        \"samples\": [\n          0\n        ],\n        \"semantic_type\": \"\",\n        \"description\": \"\"\n      }\n    },\n    {\n      \"column\": \"bike_id\",\n      \"properties\": {\n        \"dtype\": \"string\",\n        \"num_unique_values\": 902,\n        \"samples\": [\n          \"cb74ad1d8f5a65dc30431cce85a441f6\"\n        ],\n        \"semantic_type\": \"\",\n        \"description\": \"\"\n      }\n    },\n    {\n      \"column\": \"lon\",\n      \"properties\": {\n        \"dtype\": \"number\",\n        \"std\": 0.06335730781702222,\n        \"min\": -77.353842616,\n        \"max\": -76.831527948,\n        \"num_unique_values\": 902,\n        \"samples\": [\n          -77.04021516666667\n        ],\n        \"semantic_type\": \"\",\n        \"description\": \"\"\n      }\n    },\n    {\n      \"column\": \"fusion_lon\",\n      \"properties\": {\n        \"dtype\": \"number\",\n        \"std\": 0.0,\n        \"min\": 0.0,\n        \"max\": 0.0,\n        \"num_unique_values\": 1,\n        \"samples\": [\n          0.0\n        ],\n        \"semantic_type\": \"\",\n        \"description\": \"\"\n      }\n    },\n    {\n      \"column\": \"type\",\n      \"properties\": {\n        \"dtype\": \"category\",\n        \"num_unique_values\": 1,\n        \"samples\": [\n          \"electric_bike\"\n        ],\n        \"semantic_type\": \"\",\n        \"description\": \"\"\n      }\n    },\n    {\n      \"column\": \"fusion_lat\",\n      \"properties\": {\n        \"dtype\": \"number\",\n        \"std\": 0.0,\n        \"min\": 0.0,\n        \"max\": 0.0,\n        \"num_unique_values\": 1,\n        \"samples\": [\n          0.0\n        ],\n        \"semantic_type\": \"\",\n        \"description\": \"\"\n      }\n    },\n    {\n      \"column\": \"lat\",\n      \"properties\": {\n        \"dtype\": \"number\",\n        \"std\": 0.052493088979346604,\n        \"min\": 38.775430322,\n        \"max\": 39.102145553,\n        \"num_unique_values\": 901,\n        \"samples\": [\n          38.8054235\n        ],\n        \"semantic_type\": \"\",\n        \"description\": \"\"\n      }\n    }\n  ]\n}",
       "type": "dataframe",
       "variable_name": "df"
      },
      "text/html": [
       "\n",
       "  <div id=\"df-b8c3179d-8912-482a-ac37-85dcd95bb579\" class=\"colab-df-container\">\n",
       "    <div>\n",
       "<style scoped>\n",
       "    .dataframe tbody tr th:only-of-type {\n",
       "        vertical-align: middle;\n",
       "    }\n",
       "\n",
       "    .dataframe tbody tr th {\n",
       "        vertical-align: top;\n",
       "    }\n",
       "\n",
       "    .dataframe thead th {\n",
       "        text-align: right;\n",
       "    }\n",
       "</style>\n",
       "<table border=\"1\" class=\"dataframe\">\n",
       "  <thead>\n",
       "    <tr style=\"text-align: right;\">\n",
       "      <th></th>\n",
       "      <th>name</th>\n",
       "      <th>rental_uris</th>\n",
       "      <th>is_reserved</th>\n",
       "      <th>is_disabled</th>\n",
       "      <th>bike_id</th>\n",
       "      <th>lon</th>\n",
       "      <th>fusion_lon</th>\n",
       "      <th>type</th>\n",
       "      <th>fusion_lat</th>\n",
       "      <th>lat</th>\n",
       "    </tr>\n",
       "  </thead>\n",
       "  <tbody>\n",
       "    <tr>\n",
       "      <th>0</th>\n",
       "      <td>222-581</td>\n",
       "      <td>{'android': 'https://dc.lft.to/lastmile_qr_sca...</td>\n",
       "      <td>0</td>\n",
       "      <td>0</td>\n",
       "      <td>a0aa065f6fd74e7978b513d8cdd64cf1</td>\n",
       "      <td>-76.998734</td>\n",
       "      <td>0.0</td>\n",
       "      <td>electric_bike</td>\n",
       "      <td>0.0</td>\n",
       "      <td>38.918871</td>\n",
       "    </tr>\n",
       "    <tr>\n",
       "      <th>1</th>\n",
       "      <td>201-455</td>\n",
       "      <td>{'android': 'https://dc.lft.to/lastmile_qr_sca...</td>\n",
       "      <td>0</td>\n",
       "      <td>0</td>\n",
       "      <td>1be60cbace8b7fb6f5113f3689d45679</td>\n",
       "      <td>-77.147770</td>\n",
       "      <td>0.0</td>\n",
       "      <td>electric_bike</td>\n",
       "      <td>0.0</td>\n",
       "      <td>38.863750</td>\n",
       "    </tr>\n",
       "    <tr>\n",
       "      <th>2</th>\n",
       "      <td>564-686</td>\n",
       "      <td>{'android': 'https://dc.lft.to/lastmile_qr_sca...</td>\n",
       "      <td>0</td>\n",
       "      <td>0</td>\n",
       "      <td>fb19f8b9cd0eb6c7c5c2019b2effe94d</td>\n",
       "      <td>-77.021102</td>\n",
       "      <td>0.0</td>\n",
       "      <td>electric_bike</td>\n",
       "      <td>0.0</td>\n",
       "      <td>38.946343</td>\n",
       "    </tr>\n",
       "    <tr>\n",
       "      <th>3</th>\n",
       "      <td>623-376</td>\n",
       "      <td>{'android': 'https://dc.lft.to/lastmile_qr_sca...</td>\n",
       "      <td>0</td>\n",
       "      <td>0</td>\n",
       "      <td>6727235431abec1be31966c49da709d3</td>\n",
       "      <td>-77.010493</td>\n",
       "      <td>0.0</td>\n",
       "      <td>electric_bike</td>\n",
       "      <td>0.0</td>\n",
       "      <td>38.877642</td>\n",
       "    </tr>\n",
       "    <tr>\n",
       "      <th>4</th>\n",
       "      <td>170-725</td>\n",
       "      <td>{'android': 'https://dc.lft.to/lastmile_qr_sca...</td>\n",
       "      <td>0</td>\n",
       "      <td>0</td>\n",
       "      <td>4a92753094db860b7f4296bb05a557c9</td>\n",
       "      <td>-77.025984</td>\n",
       "      <td>0.0</td>\n",
       "      <td>electric_bike</td>\n",
       "      <td>0.0</td>\n",
       "      <td>38.899934</td>\n",
       "    </tr>\n",
       "  </tbody>\n",
       "</table>\n",
       "</div>\n",
       "    <div class=\"colab-df-buttons\">\n",
       "\n",
       "  <div class=\"colab-df-container\">\n",
       "    <button class=\"colab-df-convert\" onclick=\"convertToInteractive('df-b8c3179d-8912-482a-ac37-85dcd95bb579')\"\n",
       "            title=\"Convert this dataframe to an interactive table.\"\n",
       "            style=\"display:none;\">\n",
       "\n",
       "  <svg xmlns=\"http://www.w3.org/2000/svg\" height=\"24px\" viewBox=\"0 -960 960 960\">\n",
       "    <path d=\"M120-120v-720h720v720H120Zm60-500h600v-160H180v160Zm220 220h160v-160H400v160Zm0 220h160v-160H400v160ZM180-400h160v-160H180v160Zm440 0h160v-160H620v160ZM180-180h160v-160H180v160Zm440 0h160v-160H620v160Z\"/>\n",
       "  </svg>\n",
       "    </button>\n",
       "\n",
       "  <style>\n",
       "    .colab-df-container {\n",
       "      display:flex;\n",
       "      gap: 12px;\n",
       "    }\n",
       "\n",
       "    .colab-df-convert {\n",
       "      background-color: #E8F0FE;\n",
       "      border: none;\n",
       "      border-radius: 50%;\n",
       "      cursor: pointer;\n",
       "      display: none;\n",
       "      fill: #1967D2;\n",
       "      height: 32px;\n",
       "      padding: 0 0 0 0;\n",
       "      width: 32px;\n",
       "    }\n",
       "\n",
       "    .colab-df-convert:hover {\n",
       "      background-color: #E2EBFA;\n",
       "      box-shadow: 0px 1px 2px rgba(60, 64, 67, 0.3), 0px 1px 3px 1px rgba(60, 64, 67, 0.15);\n",
       "      fill: #174EA6;\n",
       "    }\n",
       "\n",
       "    .colab-df-buttons div {\n",
       "      margin-bottom: 4px;\n",
       "    }\n",
       "\n",
       "    [theme=dark] .colab-df-convert {\n",
       "      background-color: #3B4455;\n",
       "      fill: #D2E3FC;\n",
       "    }\n",
       "\n",
       "    [theme=dark] .colab-df-convert:hover {\n",
       "      background-color: #434B5C;\n",
       "      box-shadow: 0px 1px 3px 1px rgba(0, 0, 0, 0.15);\n",
       "      filter: drop-shadow(0px 1px 2px rgba(0, 0, 0, 0.3));\n",
       "      fill: #FFFFFF;\n",
       "    }\n",
       "  </style>\n",
       "\n",
       "    <script>\n",
       "      const buttonEl =\n",
       "        document.querySelector('#df-b8c3179d-8912-482a-ac37-85dcd95bb579 button.colab-df-convert');\n",
       "      buttonEl.style.display =\n",
       "        google.colab.kernel.accessAllowed ? 'block' : 'none';\n",
       "\n",
       "      async function convertToInteractive(key) {\n",
       "        const element = document.querySelector('#df-b8c3179d-8912-482a-ac37-85dcd95bb579');\n",
       "        const dataTable =\n",
       "          await google.colab.kernel.invokeFunction('convertToInteractive',\n",
       "                                                    [key], {});\n",
       "        if (!dataTable) return;\n",
       "\n",
       "        const docLinkHtml = 'Like what you see? Visit the ' +\n",
       "          '<a target=\"_blank\" href=https://colab.research.google.com/notebooks/data_table.ipynb>data table notebook</a>'\n",
       "          + ' to learn more about interactive tables.';\n",
       "        element.innerHTML = '';\n",
       "        dataTable['output_type'] = 'display_data';\n",
       "        await google.colab.output.renderOutput(dataTable, element);\n",
       "        const docLink = document.createElement('div');\n",
       "        docLink.innerHTML = docLinkHtml;\n",
       "        element.appendChild(docLink);\n",
       "      }\n",
       "    </script>\n",
       "  </div>\n",
       "\n",
       "\n",
       "<div id=\"df-353fe7d3-fa13-4ef9-b605-75f8b664858e\">\n",
       "  <button class=\"colab-df-quickchart\" onclick=\"quickchart('df-353fe7d3-fa13-4ef9-b605-75f8b664858e')\"\n",
       "            title=\"Suggest charts\"\n",
       "            style=\"display:none;\">\n",
       "\n",
       "<svg xmlns=\"http://www.w3.org/2000/svg\" height=\"24px\"viewBox=\"0 0 24 24\"\n",
       "     width=\"24px\">\n",
       "    <g>\n",
       "        <path d=\"M19 3H5c-1.1 0-2 .9-2 2v14c0 1.1.9 2 2 2h14c1.1 0 2-.9 2-2V5c0-1.1-.9-2-2-2zM9 17H7v-7h2v7zm4 0h-2V7h2v10zm4 0h-2v-4h2v4z\"/>\n",
       "    </g>\n",
       "</svg>\n",
       "  </button>\n",
       "\n",
       "<style>\n",
       "  .colab-df-quickchart {\n",
       "      --bg-color: #E8F0FE;\n",
       "      --fill-color: #1967D2;\n",
       "      --hover-bg-color: #E2EBFA;\n",
       "      --hover-fill-color: #174EA6;\n",
       "      --disabled-fill-color: #AAA;\n",
       "      --disabled-bg-color: #DDD;\n",
       "  }\n",
       "\n",
       "  [theme=dark] .colab-df-quickchart {\n",
       "      --bg-color: #3B4455;\n",
       "      --fill-color: #D2E3FC;\n",
       "      --hover-bg-color: #434B5C;\n",
       "      --hover-fill-color: #FFFFFF;\n",
       "      --disabled-bg-color: #3B4455;\n",
       "      --disabled-fill-color: #666;\n",
       "  }\n",
       "\n",
       "  .colab-df-quickchart {\n",
       "    background-color: var(--bg-color);\n",
       "    border: none;\n",
       "    border-radius: 50%;\n",
       "    cursor: pointer;\n",
       "    display: none;\n",
       "    fill: var(--fill-color);\n",
       "    height: 32px;\n",
       "    padding: 0;\n",
       "    width: 32px;\n",
       "  }\n",
       "\n",
       "  .colab-df-quickchart:hover {\n",
       "    background-color: var(--hover-bg-color);\n",
       "    box-shadow: 0 1px 2px rgba(60, 64, 67, 0.3), 0 1px 3px 1px rgba(60, 64, 67, 0.15);\n",
       "    fill: var(--button-hover-fill-color);\n",
       "  }\n",
       "\n",
       "  .colab-df-quickchart-complete:disabled,\n",
       "  .colab-df-quickchart-complete:disabled:hover {\n",
       "    background-color: var(--disabled-bg-color);\n",
       "    fill: var(--disabled-fill-color);\n",
       "    box-shadow: none;\n",
       "  }\n",
       "\n",
       "  .colab-df-spinner {\n",
       "    border: 2px solid var(--fill-color);\n",
       "    border-color: transparent;\n",
       "    border-bottom-color: var(--fill-color);\n",
       "    animation:\n",
       "      spin 1s steps(1) infinite;\n",
       "  }\n",
       "\n",
       "  @keyframes spin {\n",
       "    0% {\n",
       "      border-color: transparent;\n",
       "      border-bottom-color: var(--fill-color);\n",
       "      border-left-color: var(--fill-color);\n",
       "    }\n",
       "    20% {\n",
       "      border-color: transparent;\n",
       "      border-left-color: var(--fill-color);\n",
       "      border-top-color: var(--fill-color);\n",
       "    }\n",
       "    30% {\n",
       "      border-color: transparent;\n",
       "      border-left-color: var(--fill-color);\n",
       "      border-top-color: var(--fill-color);\n",
       "      border-right-color: var(--fill-color);\n",
       "    }\n",
       "    40% {\n",
       "      border-color: transparent;\n",
       "      border-right-color: var(--fill-color);\n",
       "      border-top-color: var(--fill-color);\n",
       "    }\n",
       "    60% {\n",
       "      border-color: transparent;\n",
       "      border-right-color: var(--fill-color);\n",
       "    }\n",
       "    80% {\n",
       "      border-color: transparent;\n",
       "      border-right-color: var(--fill-color);\n",
       "      border-bottom-color: var(--fill-color);\n",
       "    }\n",
       "    90% {\n",
       "      border-color: transparent;\n",
       "      border-bottom-color: var(--fill-color);\n",
       "    }\n",
       "  }\n",
       "</style>\n",
       "\n",
       "  <script>\n",
       "    async function quickchart(key) {\n",
       "      const quickchartButtonEl =\n",
       "        document.querySelector('#' + key + ' button');\n",
       "      quickchartButtonEl.disabled = true;  // To prevent multiple clicks.\n",
       "      quickchartButtonEl.classList.add('colab-df-spinner');\n",
       "      try {\n",
       "        const charts = await google.colab.kernel.invokeFunction(\n",
       "            'suggestCharts', [key], {});\n",
       "      } catch (error) {\n",
       "        console.error('Error during call to suggestCharts:', error);\n",
       "      }\n",
       "      quickchartButtonEl.classList.remove('colab-df-spinner');\n",
       "      quickchartButtonEl.classList.add('colab-df-quickchart-complete');\n",
       "    }\n",
       "    (() => {\n",
       "      let quickchartButtonEl =\n",
       "        document.querySelector('#df-353fe7d3-fa13-4ef9-b605-75f8b664858e button');\n",
       "      quickchartButtonEl.style.display =\n",
       "        google.colab.kernel.accessAllowed ? 'block' : 'none';\n",
       "    })();\n",
       "  </script>\n",
       "</div>\n",
       "    </div>\n",
       "  </div>\n"
      ],
      "text/plain": [
       "      name                                        rental_uris  is_reserved  \\\n",
       "0  222-581  {'android': 'https://dc.lft.to/lastmile_qr_sca...            0   \n",
       "1  201-455  {'android': 'https://dc.lft.to/lastmile_qr_sca...            0   \n",
       "2  564-686  {'android': 'https://dc.lft.to/lastmile_qr_sca...            0   \n",
       "3  623-376  {'android': 'https://dc.lft.to/lastmile_qr_sca...            0   \n",
       "4  170-725  {'android': 'https://dc.lft.to/lastmile_qr_sca...            0   \n",
       "\n",
       "   is_disabled                           bike_id        lon  fusion_lon  \\\n",
       "0            0  a0aa065f6fd74e7978b513d8cdd64cf1 -76.998734         0.0   \n",
       "1            0  1be60cbace8b7fb6f5113f3689d45679 -77.147770         0.0   \n",
       "2            0  fb19f8b9cd0eb6c7c5c2019b2effe94d -77.021102         0.0   \n",
       "3            0  6727235431abec1be31966c49da709d3 -77.010493         0.0   \n",
       "4            0  4a92753094db860b7f4296bb05a557c9 -77.025984         0.0   \n",
       "\n",
       "            type  fusion_lat        lat  \n",
       "0  electric_bike         0.0  38.918871  \n",
       "1  electric_bike         0.0  38.863750  \n",
       "2  electric_bike         0.0  38.946343  \n",
       "3  electric_bike         0.0  38.877642  \n",
       "4  electric_bike         0.0  38.899934  "
      ]
     },
     "execution_count": 7,
     "metadata": {},
     "output_type": "execute_result"
    }
   ],
   "source": [
    "# Make a dataframe out of data for available bikes\n",
    "df = pd.DataFrame(data['data']['bikes'])\n",
    "\n",
    "df.head()"
   ]
  },
  {
   "cell_type": "markdown",
   "id": "k-XbyhmI6q6L",
   "metadata": {
    "id": "k-XbyhmI6q6L"
   },
   "source": [
    "# Load JSON data saved in a file"
   ]
  },
  {
   "cell_type": "code",
   "execution_count": 8,
   "id": "70SUcStI6N1U",
   "metadata": {
    "id": "70SUcStI6N1U"
   },
   "outputs": [],
   "source": [
    "# open a single stored json\n",
    "with open('cabi_data/cabi_bike_status_2024-03-03_13-11-54.json') as json_data: # Notice how I added 'cabi_data/' to the front of the path to get into that subdirectory where the jsons are stored?\n",
    "    data = json.load(json_data)\n",
    "    json_data.close()"
   ]
  },
  {
   "cell_type": "code",
   "execution_count": 9,
   "id": "dPUSADSH6wu3",
   "metadata": {
    "colab": {
     "base_uri": "https://localhost:8080/"
    },
    "id": "dPUSADSH6wu3",
    "outputId": "59bceea2-a920-4b36-da22-42abae16df94"
   },
   "outputs": [
    {
     "data": {
      "text/plain": [
       "dict"
      ]
     },
     "execution_count": 9,
     "metadata": {},
     "output_type": "execute_result"
    }
   ],
   "source": [
    "# see how the data are stored\n",
    "type(data)"
   ]
  },
  {
   "cell_type": "code",
   "execution_count": 10,
   "id": "n_nUtw7n7AAw",
   "metadata": {
    "colab": {
     "base_uri": "https://localhost:8080/"
    },
    "id": "n_nUtw7n7AAw",
    "outputId": "fd9bff96-9f92-4e2d-f5cd-df5713672789"
   },
   "outputs": [
    {
     "data": {
      "text/plain": [
       "dict_keys(['data', 'last_updated', 'ttl', 'version'])"
      ]
     },
     "execution_count": 10,
     "metadata": {},
     "output_type": "execute_result"
    }
   ],
   "source": [
    "# see what keys are available\n",
    "data.keys()"
   ]
  },
  {
   "cell_type": "code",
   "execution_count": 11,
   "id": "N1AJJEM57CEz",
   "metadata": {
    "id": "N1AJJEM57CEz"
   },
   "outputs": [],
   "source": [
    "# drill into the records for each bike\n",
    "records = data['data']['bikes']\n",
    "\n",
    "# convert to a dataframe\n",
    "df = pd.DataFrame(records)\n",
    "\n",
    "# drop a column that we won't use, just to keep things clean\n",
    "df = df.drop(columns=['rental_uris'])"
   ]
  },
  {
   "cell_type": "code",
   "execution_count": 12,
   "id": "IlNNuwgT7Dg7",
   "metadata": {
    "colab": {
     "base_uri": "https://localhost:8080/",
     "height": 313
    },
    "id": "IlNNuwgT7Dg7",
    "outputId": "acf668ca-2120-48f0-a2d4-434ebdf7ae53"
   },
   "outputs": [
    {
     "data": {
      "application/vnd.google.colaboratory.intrinsic+json": {
       "summary": "{\n  \"name\": \"df\",\n  \"rows\": 836,\n  \"fields\": [\n    {\n      \"column\": \"is_reserved\",\n      \"properties\": {\n        \"dtype\": \"number\",\n        \"std\": 0,\n        \"min\": 0,\n        \"max\": 0,\n        \"num_unique_values\": 1,\n        \"samples\": [\n          0\n        ],\n        \"semantic_type\": \"\",\n        \"description\": \"\"\n      }\n    },\n    {\n      \"column\": \"fusion_lon\",\n      \"properties\": {\n        \"dtype\": \"number\",\n        \"std\": 0.0,\n        \"min\": 0.0,\n        \"max\": 0.0,\n        \"num_unique_values\": 1,\n        \"samples\": [\n          0.0\n        ],\n        \"semantic_type\": \"\",\n        \"description\": \"\"\n      }\n    },\n    {\n      \"column\": \"fusion_lat\",\n      \"properties\": {\n        \"dtype\": \"number\",\n        \"std\": 0.0,\n        \"min\": 0.0,\n        \"max\": 0.0,\n        \"num_unique_values\": 1,\n        \"samples\": [\n          0.0\n        ],\n        \"semantic_type\": \"\",\n        \"description\": \"\"\n      }\n    },\n    {\n      \"column\": \"lat\",\n      \"properties\": {\n        \"dtype\": \"number\",\n        \"std\": 0.05124682224353517,\n        \"min\": 38.78959012,\n        \"max\": 39.09826433333333,\n        \"num_unique_values\": 836,\n        \"samples\": [\n          38.960923672\n        ],\n        \"semantic_type\": \"\",\n        \"description\": \"\"\n      }\n    },\n    {\n      \"column\": \"type\",\n      \"properties\": {\n        \"dtype\": \"category\",\n        \"num_unique_values\": 1,\n        \"samples\": [\n          \"electric_bike\"\n        ],\n        \"semantic_type\": \"\",\n        \"description\": \"\"\n      }\n    },\n    {\n      \"column\": \"is_disabled\",\n      \"properties\": {\n        \"dtype\": \"number\",\n        \"std\": 0,\n        \"min\": 0,\n        \"max\": 0,\n        \"num_unique_values\": 1,\n        \"samples\": [\n          0\n        ],\n        \"semantic_type\": \"\",\n        \"description\": \"\"\n      }\n    },\n    {\n      \"column\": \"bike_id\",\n      \"properties\": {\n        \"dtype\": \"string\",\n        \"num_unique_values\": 836,\n        \"samples\": [\n          \"cb7838142c275305e1174c2673e936ca\"\n        ],\n        \"semantic_type\": \"\",\n        \"description\": \"\"\n      }\n    },\n    {\n      \"column\": \"name\",\n      \"properties\": {\n        \"dtype\": \"string\",\n        \"num_unique_values\": 836,\n        \"samples\": [\n          \"886-6113\"\n        ],\n        \"semantic_type\": \"\",\n        \"description\": \"\"\n      }\n    },\n    {\n      \"column\": \"lon\",\n      \"properties\": {\n        \"dtype\": \"number\",\n        \"std\": 0.06502609162360895,\n        \"min\": -77.349434733,\n        \"max\": -76.844457746,\n        \"num_unique_values\": 836,\n        \"samples\": [\n          -76.992942929\n        ],\n        \"semantic_type\": \"\",\n        \"description\": \"\"\n      }\n    }\n  ]\n}",
       "type": "dataframe",
       "variable_name": "df"
      },
      "text/html": [
       "\n",
       "  <div id=\"df-6c8326a0-a223-462c-a530-c77ba44fd42b\" class=\"colab-df-container\">\n",
       "    <div>\n",
       "<style scoped>\n",
       "    .dataframe tbody tr th:only-of-type {\n",
       "        vertical-align: middle;\n",
       "    }\n",
       "\n",
       "    .dataframe tbody tr th {\n",
       "        vertical-align: top;\n",
       "    }\n",
       "\n",
       "    .dataframe thead th {\n",
       "        text-align: right;\n",
       "    }\n",
       "</style>\n",
       "<table border=\"1\" class=\"dataframe\">\n",
       "  <thead>\n",
       "    <tr style=\"text-align: right;\">\n",
       "      <th></th>\n",
       "      <th>is_reserved</th>\n",
       "      <th>fusion_lon</th>\n",
       "      <th>fusion_lat</th>\n",
       "      <th>lat</th>\n",
       "      <th>type</th>\n",
       "      <th>is_disabled</th>\n",
       "      <th>bike_id</th>\n",
       "      <th>name</th>\n",
       "      <th>lon</th>\n",
       "    </tr>\n",
       "  </thead>\n",
       "  <tbody>\n",
       "    <tr>\n",
       "      <th>0</th>\n",
       "      <td>0</td>\n",
       "      <td>0.0</td>\n",
       "      <td>0.0</td>\n",
       "      <td>38.887458</td>\n",
       "      <td>electric_bike</td>\n",
       "      <td>0</td>\n",
       "      <td>d94788433d337e4186fb431076b52e91</td>\n",
       "      <td>320-065</td>\n",
       "      <td>-77.025747</td>\n",
       "    </tr>\n",
       "    <tr>\n",
       "      <th>1</th>\n",
       "      <td>0</td>\n",
       "      <td>0.0</td>\n",
       "      <td>0.0</td>\n",
       "      <td>38.905328</td>\n",
       "      <td>electric_bike</td>\n",
       "      <td>0</td>\n",
       "      <td>cc49246f85fdc23a6a13b3402ab52b37</td>\n",
       "      <td>222-581</td>\n",
       "      <td>-77.058526</td>\n",
       "    </tr>\n",
       "    <tr>\n",
       "      <th>2</th>\n",
       "      <td>0</td>\n",
       "      <td>0.0</td>\n",
       "      <td>0.0</td>\n",
       "      <td>38.908954</td>\n",
       "      <td>electric_bike</td>\n",
       "      <td>0</td>\n",
       "      <td>75c5df17a8236707a7948f509a5ab929</td>\n",
       "      <td>228-812</td>\n",
       "      <td>-77.043055</td>\n",
       "    </tr>\n",
       "    <tr>\n",
       "      <th>3</th>\n",
       "      <td>0</td>\n",
       "      <td>0.0</td>\n",
       "      <td>0.0</td>\n",
       "      <td>38.955421</td>\n",
       "      <td>electric_bike</td>\n",
       "      <td>0</td>\n",
       "      <td>4e51a79c1e03962064762ff16013b1a8</td>\n",
       "      <td>570-760</td>\n",
       "      <td>-76.940135</td>\n",
       "    </tr>\n",
       "    <tr>\n",
       "      <th>4</th>\n",
       "      <td>0</td>\n",
       "      <td>0.0</td>\n",
       "      <td>0.0</td>\n",
       "      <td>38.892292</td>\n",
       "      <td>electric_bike</td>\n",
       "      <td>0</td>\n",
       "      <td>5983a1b66f086f7905d8aa701fa7b5df</td>\n",
       "      <td>268-224</td>\n",
       "      <td>-77.042912</td>\n",
       "    </tr>\n",
       "  </tbody>\n",
       "</table>\n",
       "</div>\n",
       "    <div class=\"colab-df-buttons\">\n",
       "\n",
       "  <div class=\"colab-df-container\">\n",
       "    <button class=\"colab-df-convert\" onclick=\"convertToInteractive('df-6c8326a0-a223-462c-a530-c77ba44fd42b')\"\n",
       "            title=\"Convert this dataframe to an interactive table.\"\n",
       "            style=\"display:none;\">\n",
       "\n",
       "  <svg xmlns=\"http://www.w3.org/2000/svg\" height=\"24px\" viewBox=\"0 -960 960 960\">\n",
       "    <path d=\"M120-120v-720h720v720H120Zm60-500h600v-160H180v160Zm220 220h160v-160H400v160Zm0 220h160v-160H400v160ZM180-400h160v-160H180v160Zm440 0h160v-160H620v160ZM180-180h160v-160H180v160Zm440 0h160v-160H620v160Z\"/>\n",
       "  </svg>\n",
       "    </button>\n",
       "\n",
       "  <style>\n",
       "    .colab-df-container {\n",
       "      display:flex;\n",
       "      gap: 12px;\n",
       "    }\n",
       "\n",
       "    .colab-df-convert {\n",
       "      background-color: #E8F0FE;\n",
       "      border: none;\n",
       "      border-radius: 50%;\n",
       "      cursor: pointer;\n",
       "      display: none;\n",
       "      fill: #1967D2;\n",
       "      height: 32px;\n",
       "      padding: 0 0 0 0;\n",
       "      width: 32px;\n",
       "    }\n",
       "\n",
       "    .colab-df-convert:hover {\n",
       "      background-color: #E2EBFA;\n",
       "      box-shadow: 0px 1px 2px rgba(60, 64, 67, 0.3), 0px 1px 3px 1px rgba(60, 64, 67, 0.15);\n",
       "      fill: #174EA6;\n",
       "    }\n",
       "\n",
       "    .colab-df-buttons div {\n",
       "      margin-bottom: 4px;\n",
       "    }\n",
       "\n",
       "    [theme=dark] .colab-df-convert {\n",
       "      background-color: #3B4455;\n",
       "      fill: #D2E3FC;\n",
       "    }\n",
       "\n",
       "    [theme=dark] .colab-df-convert:hover {\n",
       "      background-color: #434B5C;\n",
       "      box-shadow: 0px 1px 3px 1px rgba(0, 0, 0, 0.15);\n",
       "      filter: drop-shadow(0px 1px 2px rgba(0, 0, 0, 0.3));\n",
       "      fill: #FFFFFF;\n",
       "    }\n",
       "  </style>\n",
       "\n",
       "    <script>\n",
       "      const buttonEl =\n",
       "        document.querySelector('#df-6c8326a0-a223-462c-a530-c77ba44fd42b button.colab-df-convert');\n",
       "      buttonEl.style.display =\n",
       "        google.colab.kernel.accessAllowed ? 'block' : 'none';\n",
       "\n",
       "      async function convertToInteractive(key) {\n",
       "        const element = document.querySelector('#df-6c8326a0-a223-462c-a530-c77ba44fd42b');\n",
       "        const dataTable =\n",
       "          await google.colab.kernel.invokeFunction('convertToInteractive',\n",
       "                                                    [key], {});\n",
       "        if (!dataTable) return;\n",
       "\n",
       "        const docLinkHtml = 'Like what you see? Visit the ' +\n",
       "          '<a target=\"_blank\" href=https://colab.research.google.com/notebooks/data_table.ipynb>data table notebook</a>'\n",
       "          + ' to learn more about interactive tables.';\n",
       "        element.innerHTML = '';\n",
       "        dataTable['output_type'] = 'display_data';\n",
       "        await google.colab.output.renderOutput(dataTable, element);\n",
       "        const docLink = document.createElement('div');\n",
       "        docLink.innerHTML = docLinkHtml;\n",
       "        element.appendChild(docLink);\n",
       "      }\n",
       "    </script>\n",
       "  </div>\n",
       "\n",
       "\n",
       "<div id=\"df-c8ac12e4-5055-402a-8180-2c476d828901\">\n",
       "  <button class=\"colab-df-quickchart\" onclick=\"quickchart('df-c8ac12e4-5055-402a-8180-2c476d828901')\"\n",
       "            title=\"Suggest charts\"\n",
       "            style=\"display:none;\">\n",
       "\n",
       "<svg xmlns=\"http://www.w3.org/2000/svg\" height=\"24px\"viewBox=\"0 0 24 24\"\n",
       "     width=\"24px\">\n",
       "    <g>\n",
       "        <path d=\"M19 3H5c-1.1 0-2 .9-2 2v14c0 1.1.9 2 2 2h14c1.1 0 2-.9 2-2V5c0-1.1-.9-2-2-2zM9 17H7v-7h2v7zm4 0h-2V7h2v10zm4 0h-2v-4h2v4z\"/>\n",
       "    </g>\n",
       "</svg>\n",
       "  </button>\n",
       "\n",
       "<style>\n",
       "  .colab-df-quickchart {\n",
       "      --bg-color: #E8F0FE;\n",
       "      --fill-color: #1967D2;\n",
       "      --hover-bg-color: #E2EBFA;\n",
       "      --hover-fill-color: #174EA6;\n",
       "      --disabled-fill-color: #AAA;\n",
       "      --disabled-bg-color: #DDD;\n",
       "  }\n",
       "\n",
       "  [theme=dark] .colab-df-quickchart {\n",
       "      --bg-color: #3B4455;\n",
       "      --fill-color: #D2E3FC;\n",
       "      --hover-bg-color: #434B5C;\n",
       "      --hover-fill-color: #FFFFFF;\n",
       "      --disabled-bg-color: #3B4455;\n",
       "      --disabled-fill-color: #666;\n",
       "  }\n",
       "\n",
       "  .colab-df-quickchart {\n",
       "    background-color: var(--bg-color);\n",
       "    border: none;\n",
       "    border-radius: 50%;\n",
       "    cursor: pointer;\n",
       "    display: none;\n",
       "    fill: var(--fill-color);\n",
       "    height: 32px;\n",
       "    padding: 0;\n",
       "    width: 32px;\n",
       "  }\n",
       "\n",
       "  .colab-df-quickchart:hover {\n",
       "    background-color: var(--hover-bg-color);\n",
       "    box-shadow: 0 1px 2px rgba(60, 64, 67, 0.3), 0 1px 3px 1px rgba(60, 64, 67, 0.15);\n",
       "    fill: var(--button-hover-fill-color);\n",
       "  }\n",
       "\n",
       "  .colab-df-quickchart-complete:disabled,\n",
       "  .colab-df-quickchart-complete:disabled:hover {\n",
       "    background-color: var(--disabled-bg-color);\n",
       "    fill: var(--disabled-fill-color);\n",
       "    box-shadow: none;\n",
       "  }\n",
       "\n",
       "  .colab-df-spinner {\n",
       "    border: 2px solid var(--fill-color);\n",
       "    border-color: transparent;\n",
       "    border-bottom-color: var(--fill-color);\n",
       "    animation:\n",
       "      spin 1s steps(1) infinite;\n",
       "  }\n",
       "\n",
       "  @keyframes spin {\n",
       "    0% {\n",
       "      border-color: transparent;\n",
       "      border-bottom-color: var(--fill-color);\n",
       "      border-left-color: var(--fill-color);\n",
       "    }\n",
       "    20% {\n",
       "      border-color: transparent;\n",
       "      border-left-color: var(--fill-color);\n",
       "      border-top-color: var(--fill-color);\n",
       "    }\n",
       "    30% {\n",
       "      border-color: transparent;\n",
       "      border-left-color: var(--fill-color);\n",
       "      border-top-color: var(--fill-color);\n",
       "      border-right-color: var(--fill-color);\n",
       "    }\n",
       "    40% {\n",
       "      border-color: transparent;\n",
       "      border-right-color: var(--fill-color);\n",
       "      border-top-color: var(--fill-color);\n",
       "    }\n",
       "    60% {\n",
       "      border-color: transparent;\n",
       "      border-right-color: var(--fill-color);\n",
       "    }\n",
       "    80% {\n",
       "      border-color: transparent;\n",
       "      border-right-color: var(--fill-color);\n",
       "      border-bottom-color: var(--fill-color);\n",
       "    }\n",
       "    90% {\n",
       "      border-color: transparent;\n",
       "      border-bottom-color: var(--fill-color);\n",
       "    }\n",
       "  }\n",
       "</style>\n",
       "\n",
       "  <script>\n",
       "    async function quickchart(key) {\n",
       "      const quickchartButtonEl =\n",
       "        document.querySelector('#' + key + ' button');\n",
       "      quickchartButtonEl.disabled = true;  // To prevent multiple clicks.\n",
       "      quickchartButtonEl.classList.add('colab-df-spinner');\n",
       "      try {\n",
       "        const charts = await google.colab.kernel.invokeFunction(\n",
       "            'suggestCharts', [key], {});\n",
       "      } catch (error) {\n",
       "        console.error('Error during call to suggestCharts:', error);\n",
       "      }\n",
       "      quickchartButtonEl.classList.remove('colab-df-spinner');\n",
       "      quickchartButtonEl.classList.add('colab-df-quickchart-complete');\n",
       "    }\n",
       "    (() => {\n",
       "      let quickchartButtonEl =\n",
       "        document.querySelector('#df-c8ac12e4-5055-402a-8180-2c476d828901 button');\n",
       "      quickchartButtonEl.style.display =\n",
       "        google.colab.kernel.accessAllowed ? 'block' : 'none';\n",
       "    })();\n",
       "  </script>\n",
       "</div>\n",
       "    </div>\n",
       "  </div>\n"
      ],
      "text/plain": [
       "   is_reserved  fusion_lon  fusion_lat        lat           type  is_disabled  \\\n",
       "0            0         0.0         0.0  38.887458  electric_bike            0   \n",
       "1            0         0.0         0.0  38.905328  electric_bike            0   \n",
       "2            0         0.0         0.0  38.908954  electric_bike            0   \n",
       "3            0         0.0         0.0  38.955421  electric_bike            0   \n",
       "4            0         0.0         0.0  38.892292  electric_bike            0   \n",
       "\n",
       "                            bike_id     name        lon  \n",
       "0  d94788433d337e4186fb431076b52e91  320-065 -77.025747  \n",
       "1  cc49246f85fdc23a6a13b3402ab52b37  222-581 -77.058526  \n",
       "2  75c5df17a8236707a7948f509a5ab929  228-812 -77.043055  \n",
       "3  4e51a79c1e03962064762ff16013b1a8  570-760 -76.940135  \n",
       "4  5983a1b66f086f7905d8aa701fa7b5df  268-224 -77.042912  "
      ]
     },
     "execution_count": 12,
     "metadata": {},
     "output_type": "execute_result"
    }
   ],
   "source": [
    "df.head()"
   ]
  },
  {
   "cell_type": "markdown",
   "id": "QrdZ8-Tu7Hd7",
   "metadata": {
    "id": "QrdZ8-Tu7Hd7"
   },
   "source": [
    "# Iteratively load all the JSON files and combine them into a single dataframe\n",
    "\n",
    "Except for the impact statements above, this is probably the only part of the code you'll need to keep. This function wraps all the loading steps. Feel free to delete the cells above if you're not using them."
   ]
  },
  {
   "cell_type": "code",
   "execution_count": 5,
   "id": "qaZ1EkjQJisJ",
   "metadata": {
    "colab": {
     "base_uri": "https://localhost:8080/",
     "height": 486
    },
    "id": "qaZ1EkjQJisJ",
    "outputId": "93c01947-2b49-465d-9122-784ec75dc2e8"
   },
   "outputs": [
    {
     "data": {
      "text/html": [
       "<div>\n",
       "<style scoped>\n",
       "    .dataframe tbody tr th:only-of-type {\n",
       "        vertical-align: middle;\n",
       "    }\n",
       "\n",
       "    .dataframe tbody tr th {\n",
       "        vertical-align: top;\n",
       "    }\n",
       "\n",
       "    .dataframe thead th {\n",
       "        text-align: right;\n",
       "    }\n",
       "</style>\n",
       "<table border=\"1\" class=\"dataframe\">\n",
       "  <thead>\n",
       "    <tr style=\"text-align: right;\">\n",
       "      <th></th>\n",
       "      <th>is_reserved</th>\n",
       "      <th>fusion_lon</th>\n",
       "      <th>fusion_lat</th>\n",
       "      <th>lat</th>\n",
       "      <th>type</th>\n",
       "      <th>is_disabled</th>\n",
       "      <th>bike_id</th>\n",
       "      <th>name</th>\n",
       "      <th>lon</th>\n",
       "      <th>timestamp</th>\n",
       "    </tr>\n",
       "  </thead>\n",
       "  <tbody>\n",
       "    <tr>\n",
       "      <th>0</th>\n",
       "      <td>0</td>\n",
       "      <td>0.0</td>\n",
       "      <td>0.0</td>\n",
       "      <td>38.887418</td>\n",
       "      <td>electric_bike</td>\n",
       "      <td>0</td>\n",
       "      <td>2c7c429ad215f54b34c470bb0d7ab2d0</td>\n",
       "      <td>320-065</td>\n",
       "      <td>-77.025741</td>\n",
       "      <td>2024-03-03 21:42:20-05:00</td>\n",
       "    </tr>\n",
       "    <tr>\n",
       "      <th>1</th>\n",
       "      <td>0</td>\n",
       "      <td>0.0</td>\n",
       "      <td>0.0</td>\n",
       "      <td>38.955444</td>\n",
       "      <td>electric_bike</td>\n",
       "      <td>0</td>\n",
       "      <td>b76b3c95bf337250f1812d044d496150</td>\n",
       "      <td>570-760</td>\n",
       "      <td>-76.940146</td>\n",
       "      <td>2024-03-03 21:42:20-05:00</td>\n",
       "    </tr>\n",
       "    <tr>\n",
       "      <th>2</th>\n",
       "      <td>0</td>\n",
       "      <td>0.0</td>\n",
       "      <td>0.0</td>\n",
       "      <td>38.881450</td>\n",
       "      <td>electric_bike</td>\n",
       "      <td>0</td>\n",
       "      <td>6a1764663f81aeb992d2a3eb03ab8cae</td>\n",
       "      <td>268-224</td>\n",
       "      <td>-77.027402</td>\n",
       "      <td>2024-03-03 21:42:20-05:00</td>\n",
       "    </tr>\n",
       "    <tr>\n",
       "      <th>3</th>\n",
       "      <td>0</td>\n",
       "      <td>0.0</td>\n",
       "      <td>0.0</td>\n",
       "      <td>38.907814</td>\n",
       "      <td>electric_bike</td>\n",
       "      <td>0</td>\n",
       "      <td>8dc155e7028366a10f173f10ba4a8c42</td>\n",
       "      <td>137-726</td>\n",
       "      <td>-77.071612</td>\n",
       "      <td>2024-03-03 21:42:20-05:00</td>\n",
       "    </tr>\n",
       "    <tr>\n",
       "      <th>4</th>\n",
       "      <td>0</td>\n",
       "      <td>0.0</td>\n",
       "      <td>0.0</td>\n",
       "      <td>38.898261</td>\n",
       "      <td>electric_bike</td>\n",
       "      <td>0</td>\n",
       "      <td>6f3a3f154abfb168b4609b2ba8138894</td>\n",
       "      <td>329-768</td>\n",
       "      <td>-77.046883</td>\n",
       "      <td>2024-03-03 21:42:20-05:00</td>\n",
       "    </tr>\n",
       "  </tbody>\n",
       "</table>\n",
       "</div>"
      ],
      "text/plain": [
       "   is_reserved  fusion_lon  fusion_lat        lat           type  is_disabled  \\\n",
       "0            0         0.0         0.0  38.887418  electric_bike            0   \n",
       "1            0         0.0         0.0  38.955444  electric_bike            0   \n",
       "2            0         0.0         0.0  38.881450  electric_bike            0   \n",
       "3            0         0.0         0.0  38.907814  electric_bike            0   \n",
       "4            0         0.0         0.0  38.898261  electric_bike            0   \n",
       "\n",
       "                            bike_id     name        lon  \\\n",
       "0  2c7c429ad215f54b34c470bb0d7ab2d0  320-065 -77.025741   \n",
       "1  b76b3c95bf337250f1812d044d496150  570-760 -76.940146   \n",
       "2  6a1764663f81aeb992d2a3eb03ab8cae  268-224 -77.027402   \n",
       "3  8dc155e7028366a10f173f10ba4a8c42  137-726 -77.071612   \n",
       "4  6f3a3f154abfb168b4609b2ba8138894  329-768 -77.046883   \n",
       "\n",
       "                  timestamp  \n",
       "0 2024-03-03 21:42:20-05:00  \n",
       "1 2024-03-03 21:42:20-05:00  \n",
       "2 2024-03-03 21:42:20-05:00  \n",
       "3 2024-03-03 21:42:20-05:00  \n",
       "4 2024-03-03 21:42:20-05:00  "
      ]
     },
     "execution_count": 5,
     "metadata": {},
     "output_type": "execute_result"
    }
   ],
   "source": [
    "df = exercise06.load_and_combine_free_bike_status_jsons_as_df('../cabi_data')\n",
    "\n",
    "df.head()"
   ]
  },
  {
   "cell_type": "markdown",
   "id": "X9uG9ubUNlbs",
   "metadata": {
    "id": "X9uG9ubUNlbs"
   },
   "source": [
    "This is where you take over. Can you use this dataframe to answer the question(s) above?"
   ]
  },
  {
   "cell_type": "code",
   "execution_count": 6,
   "id": "jb6Gn6UPJcxm",
   "metadata": {
    "id": "jb6Gn6UPJcxm"
   },
   "outputs": [],
   "source": [
    "import json\n",
    "import pandas as pd\n",
    "import matplotlib.pyplot as plt"
   ]
  },
  {
   "cell_type": "code",
   "execution_count": 7,
   "id": "UQ7HByLjxiWg",
   "metadata": {
    "id": "UQ7HByLjxiWg"
   },
   "outputs": [],
   "source": [
    "# Extract hour and date from timestamp and create a new column for the hour\n",
    "df['Hour'] = pd.to_datetime(df['timestamp']).dt.hour\n",
    "df['date'] = df['timestamp'].dt.date"
   ]
  },
  {
   "cell_type": "code",
   "execution_count": 8,
   "id": "4I2SYxlUyD-c",
   "metadata": {
    "id": "4I2SYxlUyD-c"
   },
   "outputs": [],
   "source": [
    "# Group by hour and count the number of unique bikes available for each hour\n",
    "hourly_summary = df.groupby(['date', 'Hour'])['bike_id'].nunique()"
   ]
  },
  {
   "cell_type": "code",
   "execution_count": 9,
   "id": "YRJZ2Ro5X8bz",
   "metadata": {
    "colab": {
     "base_uri": "https://localhost:8080/"
    },
    "id": "YRJZ2Ro5X8bz",
    "outputId": "6f008c8d-19b7-446f-cba9-9e009a486c55"
   },
   "outputs": [
    {
     "name": "stdout",
     "output_type": "stream",
     "text": [
      "date        Hour\n",
      "2024-03-03  15      1964\n",
      "            16      2044\n",
      "            17      2063\n",
      "            18      2028\n",
      "            19      2006\n",
      "            20      2023\n",
      "            21      2014\n",
      "            22      2051\n",
      "            23      2041\n",
      "2024-03-04  0       2060\n",
      "            1       2058\n",
      "            2       2055\n",
      "            3       2064\n",
      "            4       2050\n",
      "            5       2037\n",
      "            6       2039\n",
      "            7       2032\n",
      "            8       2051\n",
      "            9       2041\n",
      "            10      2033\n",
      "            11      2001\n",
      "            12      2045\n",
      "            13      2041\n",
      "            14      2089\n",
      "            15      2106\n",
      "            16      2127\n",
      "            17      2113\n",
      "Name: bike_id, dtype: int64\n"
     ]
    }
   ],
   "source": [
    "print(hourly_summary)"
   ]
  },
  {
   "cell_type": "code",
   "execution_count": 10,
   "id": "bHu9vNmmZGXz",
   "metadata": {
    "id": "bHu9vNmmZGXz"
   },
   "outputs": [],
   "source": [
    "# Specify the target date and hour\n",
    "target_date = '2024-03-04'\n",
    "target_hour = 16\n",
    "\n",
    "# Create a timestamp for the target date and hour\n",
    "target_timestamp = pd.Timestamp(f'{target_date} {target_hour}:00:00')\n",
    "\n",
    "# Localize the target timestamp to the same time zone as the DataFrame's timestamps\n",
    "target_timestamp = target_timestamp.tz_localize(df['timestamp'].dt.tz)\n",
    "\n",
    "# Calculate the timestamp for 24 hours before the target timestamp\n",
    "start_timestamp = target_timestamp - pd.Timedelta(hours=24)\n",
    "\n",
    "# Filter the DataFrame to include data within the 24-hour window from the target timestamp\n",
    "filtered_df = df[(df['timestamp'] >= start_timestamp) & (df['timestamp'] < target_timestamp)]\n"
   ]
  },
  {
   "cell_type": "code",
   "execution_count": 11,
   "id": "ZZFOmNNwbCz6",
   "metadata": {
    "id": "ZZFOmNNwbCz6"
   },
   "outputs": [],
   "source": [
    "# Group by hour and count the number of unique bikes available for each hour\n",
    "hourly_summary = filtered_df.groupby('Hour')['bike_id'].nunique()"
   ]
  },
  {
   "cell_type": "code",
   "execution_count": 12,
   "id": "6nMir5_2yySA",
   "metadata": {
    "colab": {
     "base_uri": "https://localhost:8080/",
     "height": 445
    },
    "id": "6nMir5_2yySA",
    "outputId": "0f2094e6-15ae-4e40-f40b-a32ee87730ee"
   },
   "outputs": [
    {
     "data": {
      "image/png": "[encoded data removed]",
      "text/plain": [
       "<Figure size 1000x600 with 1 Axes>"
      ]
     },
     "metadata": {},
     "output_type": "display_data"
    }
   ],
   "source": [
    "# Plot the trend over the 24-hour period\n",
    "plt.figure(figsize=(10, 6))\n",
    "hourly_summary.plot(kind='bar', color='skyblue')\n",
    "plt.title('Number of Available Bikes Over a 24-Hour Period')\n",
    "plt.xlabel('Hour of the Day')\n",
    "plt.ylabel('Number of Available Bikes')\n",
    "plt.xticks(rotation=0)\n",
    "plt.grid(axis='y', linestyle='--', alpha=0.7)\n",
    "plt.tight_layout()\n",
    "plt.show()"
   ]
  },
  {
   "cell_type": "code",
   "execution_count": 13,
   "id": "x_u58oE84rC5",
   "metadata": {
    "colab": {
     "base_uri": "https://localhost:8080/"
    },
    "id": "x_u58oE84rC5",
    "outputId": "6422f78f-a5a1-4ca8-ee60-1e16d5e684c4"
   },
   "outputs": [
    {
     "name": "stdout",
     "output_type": "stream",
     "text": [
      "The hour with the most available bikes is 15 with 2106 bikes available.\n",
      "The hour with the least available bikes is 11 with 2001 bikes available.\n"
     ]
    }
   ],
   "source": [
    "# Find the hour with the most available bikes\n",
    "most_available_hour = hourly_summary.idxmax()\n",
    "most_available_bikes = hourly_summary.max()\n",
    "\n",
    "# Find the hour with the least available bikes\n",
    "least_available_hour = hourly_summary.idxmin()\n",
    "least_available_bikes = hourly_summary.min()\n",
    "\n",
    "print(f\"The hour with the most available bikes is {most_available_hour} with {most_available_bikes} bikes available.\")\n",
    "print(f\"The hour with the least available bikes is {least_available_hour} with {least_available_bikes} bikes available.\")"
   ]
  },
  {
   "cell_type": "code",
   "execution_count": 15,
   "id": "GutdcsgjmiRt",
   "metadata": {
    "colab": {
     "base_uri": "https://localhost:8080/"
    },
    "id": "GutdcsgjmiRt",
    "outputId": "90d88692-d38f-4aa4-8705-5893f231ce83"
   },
   "outputs": [
    {
     "name": "stdout",
     "output_type": "stream",
     "text": [
      "Estimated number of bikes currently in use in the last 5 minutes: 0\n"
     ]
    }
   ],
   "source": [
    "import requests\n",
    "import json\n",
    "from datetime import datetime, timedelta\n",
    "\n",
    "def estimate_current_usage(api_url, stored_json_path):\n",
    "    try:\n",
    "        # Retrieve real-time data from the API\n",
    "        response = requests.get(api_url)\n",
    "        real_time_data = response.json()\n",
    "\n",
    "        # Extract bike data from real-time data\n",
    "        real_time_bikes = real_time_data.get('data', {}).get('en', {}).get('feeds', [])\n",
    "\n",
    "        # Load stored JSON data\n",
    "        with open(stored_json_path, 'r') as file:\n",
    "            stored_json_data = json.load(file)\n",
    "\n",
    "        # Extract bike IDs from stored JSON data\n",
    "        stored_bikes = stored_json_data.get('data', {}).get('bikes', [])\n",
    "\n",
    "        # Get the current time\n",
    "        current_time = datetime.now()\n",
    "\n",
    "        # Initialize a dictionary to store bike name counts\n",
    "        bike_name_counts = {}\n",
    "\n",
    "        # Iterate over the bikes used in the last 5 minutes\n",
    "        for bike in real_time_bikes:\n",
    "            timestamp = bike.get('timestamp', 0)\n",
    "            # Check if the bike was used in the last 5 minutes\n",
    "            if (current_time - datetime.fromtimestamp(timestamp)).total_seconds() <= 300:\n",
    "                bike_name = bike['name']\n",
    "                # Increment the count for the bike name\n",
    "                bike_name_counts[bike_name] = bike_name_counts.get(bike_name, 0) + 1\n",
    "\n",
    "        # Calculate the total count of bikes used in the last 5 minutes\n",
    "        total_bikes_in_use = sum(bike_name_counts.values())\n",
    "\n",
    "        return total_bikes_in_use\n",
    "\n",
    "    except Exception as e:\n",
    "        print(f\"An error occurred: {e}\")\n",
    "        return None\n",
    "\n",
    "# Example usage:\n",
    "api_url = 'https://gbfs.capitalbikeshare.com/gbfs/2.3/gbfs.json'\n",
    "stored_json_path = '../cabi_data/cabi_bike_status_2024-03-03_13-11-54.json'\n",
    "current_usage = estimate_current_usage(api_url, stored_json_path)\n",
    "if current_usage is not None:\n",
    "    print(f\"Estimated number of bikes currently in use in the last 5 minutes: {current_usage}\")\n",
    "else:\n",
    "    print(\"Failed to estimate current usage.\")\n"
   ]
  },
  {
   "cell_type": "code",
   "execution_count": null,
   "id": "cb152209-4664-40a4-af7c-d9a9b71e0c90",
   "metadata": {},
   "outputs": [],
   "source": []
  }
 ],
 "metadata": {
  "colab": {
   "provenance": []
  },
  "kernelspec": {
   "display_name": "Python 3 (ipykernel)",
   "language": "python",
   "name": "python3"
  },
  "language_info": {
   "codemirror_mode": {
    "name": "ipython",
    "version": 3
   },
   "file_extension": ".py",
   "mimetype": "text/x-python",
   "name": "python",
   "nbconvert_exporter": "python",
   "pygments_lexer": "ipython3",
   "version": "3.10.12"
  }
 },
 "nbformat": 4,
 "nbformat_minor": 5
}
