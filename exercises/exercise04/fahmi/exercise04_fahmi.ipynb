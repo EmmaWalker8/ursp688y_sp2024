{
 "cells": [
  {
   "cell_type": "markdown",
   "id": "64cfc94b-7f4c-44d0-a738-dcf75ca56307",
   "metadata": {
    "id": "64cfc94b-7f4c-44d0-a738-dcf75ca56307"
   },
   "source": [
    "Urban Data Science & Smart Cities <br>\n",
    "URSP688Y <br>\n",
    "Instructor: Chester Harvey <br>\n",
    "Urban Studies & Planning <br>\n",
    "National Center for Smart Growth <br>\n",
    "University of Maryland"
   ]
  },
  {
   "cell_type": "code",
   "execution_count": null,
   "id": "jc6O0QgLMS_1",
   "metadata": {
    "colab": {
     "base_uri": "https://localhost:8080/"
    },
    "executionInfo": {
     "elapsed": 864,
     "status": "ok",
     "timestamp": 1709593133727,
     "user": {
      "displayName": "Khairun Fahmi",
      "userId": "18038988219970526618"
     },
     "user_tz": 300
    },
    "id": "jc6O0QgLMS_1",
    "outputId": "5468371e-f3ac-4c3b-ea71-0126a6394630"
   },
   "outputs": [],
   "source": [
    "#from google.colab import drive\n",
    "drive.mount('/content/drive')"
   ]
  },
  {
   "cell_type": "markdown",
   "id": "40140710-dbbb-4249-99bb-bb317297a1cd",
   "metadata": {
    "id": "40140710-dbbb-4249-99bb-bb317297a1cd"
   },
   "source": [
    "[<img src=\"https://colab.research.google.com/assets/colab-badge.svg\">](https://colab.research.google.com/github/ncsg/ursp688y_sp2024/blob/main/exercises/exercise04/exercise04.ipynb)"
   ]
  },
  {
   "cell_type": "markdown",
   "id": "4dbe22dc-a58d-4a1b-a106-dd923f988e5b",
   "metadata": {
    "id": "4dbe22dc-a58d-4a1b-a106-dd923f988e5b"
   },
   "source": [
    "# Exercise 4 (in Two Parts)\n",
    "\n",
    "# The Data Viz Part\n",
    "\n",
    "Next week is Data Visualization week. This is one of my favorite topics, in part because we get to look at lots of pictures, and in part because it provides an excuse for some very lighthearted competition.\n",
    "\n",
    "In prep for next week, part of your exercise is to find an example of either an _excellent_ or _terrible_ data visualization. We will vote on the best (and worst) in each category, and the winner gets a small (tasty) prize.\n",
    "\n",
    "Please find an example of a data visualization that is either _very effective_ or _terribly ineffective_ in communicating an interesting finding from data. Here are a few ground rules:\n",
    "- One figure only: We should be able to see the whole thing at once on a projector screen.\n",
    "- Static images only: If you find something dynamic or interactive that you _must_ submit, please take a screenshot.\n",
    "- Do the reading first: Tufte will give you some ideas for what makes visualizations good or bad\n",
    "- No examples from Tufte. Gotta work a little bit.\n",
    "\n",
    "Please either paste a link to your image in the text cell below (can you figure out how to get markdown to display the image?) or add an image file to your PR.\n",
    "- Please label it clearly as \"good\" or \"bad\" so we know which race you're in.\n",
    "- Please write a couple bullets about why it's good or bad. This is your pitch (we can haggle about it in class, too.)"
   ]
  },
  {
   "cell_type": "markdown",
   "id": "0a728881-d6ad-43de-a173-9ef8724e0997",
   "metadata": {
    "id": "0a728881-d6ad-43de-a173-9ef8724e0997"
   },
   "source": [
    "## Good/Bad (please choose one and delete the other)\n",
    "- Why\n",
    "- Some more why\n",
    "- Any more?\n",
    "\n",
    "***** Put image link or insert image here *****"
   ]
  },
  {
   "cell_type": "markdown",
   "id": "SJN4NAXUpTtn",
   "metadata": {
    "id": "SJN4NAXUpTtn"
   },
   "source": [
    "https://i.kinja-img.com/image/upload/c_fit,q_60,w_645/5c85a3a3f588b3a5ebd2a8297a589c34.jpg"
   ]
  },
  {
   "cell_type": "code",
   "execution_count": null,
   "id": "UqYfP39CMvqk",
   "metadata": {
    "id": "UqYfP39CMvqk"
   },
   "outputs": [],
   "source": [
    "#https://i.kinja-img.com/image/upload/c_fit,q_60,w_645/5c85a3a3f588b3a5ebd2a8297a589c34.jpg"
   ]
  },
  {
   "cell_type": "markdown",
   "id": "c1181b6f-7d2f-4c59-98bf-6940085bc1e6",
   "metadata": {
    "id": "c1181b6f-7d2f-4c59-98bf-6940085bc1e6"
   },
   "source": [
    "# The Programming Part\n",
    "\n",
    "## Problem\n",
    "\n",
    "In [Exercise 3](https://github.com/ncsg/ursp688y_sp2024/blob/main/exercises/exercise03/exercise03.ipynb), you examined how many affordable housing units available to households up to 60% AMI were planned within each ward in Washington, D.C.\n",
    "\n",
    "The bonus problem was to calculate which wards were producing a _disproportionately_ large and small number of housing units given their populations.\n",
    "\n",
    "This week, please reproduce this analysis, <ins>including</ins> the bonus part, using some of your new data loading, joining, and module-building skills.\n",
    "\n",
    "Please write a program that:\n",
    "\n",
    "- Loads the affordable housing project data from `affordable_housing.csv`\n",
    "- Loads the ward populations from `wards_from_2022.csv`\n",
    "- Joins the population data to the affordable housing data\n",
    "- Calculates which wards are producing disproportionately large and small number of housing units given their populations\n",
    "- Completes all of this data loading and processing within a function (or a series of functions called by a single main function)\n",
    "- Stores that function (and any related functions) in a module\n",
    "- Calls the main function in the exercise notebook to return table or other summary or results\n",
    "\n",
    "## Data\n",
    "\n",
    "CSVs for both required data tables are included on GitHub at `exercises/exercise04`.\n",
    "\n",
    "Please consult the city's database of [affordable housing](https://opendata.dc.gov/datasets/DCGIS::affordable-housing/about) projects and [ward demographic](https://opendata.dc.gov/datasets/DCGIS::wards-from-2022/about) data.\n",
    "\n",
    "Bonus: find, download, and use more recent ward population data. (Remember to include it in your PR.) My cursory search found data as late as 2022.\n",
    "\n",
    "## New instructions for submitting a PR with multiple files\n",
    "\n",
    "Because you'll be working with multiple files, PRs become _slightly_ more complicated, so we're graduating to a new 'mini-repository' pattern:\n",
    "- Make a new folder in `exercises/exercise04` with your last name (just like the suffix for your notebook file)\n",
    "- Upload your notebook file, also appropriately named, into that folder\n",
    "- Upload any other files you make/use, including `.py` and `.csv` files, into that folder, so everything is together in the same place\n",
    "\n",
    "Ultimately, this will look a bit like this:\n",
    "```\n",
    "── exercises\n",
    "    ├── exercise04\n",
    "        ├── harvey\n",
    "            ├── exercise04_harvey.ipynb\n",
    "            ├── affordable_housing_calcs.py\n",
    "            ├── affordable_housing.csv\n",
    "            └── wards_from_2022.csv\n",
    "```\n",
    "\n",
    "**NOTE:** Yes, I realize this is a bit redundant because everyone will have copies of the same CSV files. This would never be a good idea for production coding--we would have one `data` directory, and everyone would draw from the same data. However, there are two reasons for all these copies in this case:\n",
    "1. It's good practice to build a repository with all the parts your code needs to run.\n",
    "    - In later weeks, when you  _don't_ all have the same data, it won't seem as redundant.\n",
    "3. Having everything in one folder will make it easy for me to run your code on my computer.\n",
    "\n",
    "## Hints\n",
    "- You may want to join the population data _after_ summarizing the affordable housing data (i.e., join populations to sums of units). However, I could also see an approach where you join at the beginning, then aggregate the population column with a method called `first`\n",
    "\n"
   ]
  },
  {
   "cell_type": "code",
   "execution_count": null,
   "id": "270729b1-57eb-429e-92e4-2320838f2415",
   "metadata": {
    "colab": {
     "base_uri": "https://localhost:8080/",
     "height": 75
    },
    "executionInfo": {
     "elapsed": 873,
     "status": "ok",
     "timestamp": 1709593615219,
     "user": {
      "displayName": "Khairun Fahmi",
      "userId": "18038988219970526618"
     },
     "user_tz": 300
    },
    "id": "270729b1-57eb-429e-92e4-2320838f2415",
    "outputId": "7ee443ef-937c-496f-ea81-90a2cc7744b1"
   },
   "outputs": [],
   "source": [
    "# Import your module\n",
    "import pandas as pd\n",
    "import os\n",
    "from google.colab import drive\n",
    "drive.mount('/content/drive')\n",
    "\n",
    "os.getcwd()\n",
    "# Call your main function"
   ]
  },
  {
   "cell_type": "code",
   "execution_count": null,
   "id": "asmpsL3cpr7L",
   "metadata": {
    "executionInfo": {
     "elapsed": 117,
     "status": "ok",
     "timestamp": 1709593617480,
     "user": {
      "displayName": "Khairun Fahmi",
      "userId": "18038988219970526618"
     },
     "user_tz": 300
    },
    "id": "asmpsL3cpr7L"
   },
   "outputs": [],
   "source": [
    "os.chdir('/content/drive/MyDrive/Colab Notebooks/Excercise04_Fahmi')"
   ]
  },
  {
   "cell_type": "code",
   "execution_count": 1,
   "id": "cgtLZon6mAlZ",
   "metadata": {
    "executionInfo": {
     "elapsed": 138,
     "status": "ok",
     "timestamp": 1709593619030,
     "user": {
      "displayName": "Khairun Fahmi",
      "userId": "18038988219970526618"
     },
     "user_tz": 300
    },
    "id": "cgtLZon6mAlZ"
   },
   "outputs": [],
   "source": [
    "import housingcal"
   ]
  },
  {
   "cell_type": "code",
   "execution_count": 2,
   "id": "EESURaZkq0Zl",
   "metadata": {
    "colab": {
     "base_uri": "https://localhost:8080/",
     "height": 204
    },
    "executionInfo": {
     "elapsed": 154,
     "status": "error",
     "timestamp": 1709593806019,
     "user": {
      "displayName": "Khairun Fahmi",
      "userId": "18038988219970526618"
     },
     "user_tz": 300
    },
    "id": "EESURaZkq0Zl",
    "outputId": "713bd6a6-6764-495c-925c-e2eeee001558"
   },
   "outputs": [
    {
     "name": "stderr",
     "output_type": "stream",
     "text": [
      "/Users/cwharvey/github/ursp688y_sp2024/exercises/exercise04/fahmi/housingcal.py:10: SettingWithCopyWarning: \n",
      "A value is trying to be set on a copy of a slice from a DataFrame.\n",
      "Try using .loc[row_indexer,col_indexer] = value instead\n",
      "\n",
      "See the caveats in the documentation: https://pandas.pydata.org/pandas-docs/stable/user_guide/indexing.html#returning-a-view-versus-a-copy\n",
      "  housing_projects_filtered['Total_Units'] = housing_projects_filtered['AFFORDABLE_UNITS_AT_0_30_AMI']+ housing_projects_filtered['AFFORDABLE_UNITS_AT_31_50_AMI']++housing_projects_filtered['AFFORDABLE_UNITS_AT_51_60_AMI']\n"
     ]
    },
    {
     "data": {
      "text/html": [
       "<div>\n",
       "<style scoped>\n",
       "    .dataframe tbody tr th:only-of-type {\n",
       "        vertical-align: middle;\n",
       "    }\n",
       "\n",
       "    .dataframe tbody tr th {\n",
       "        vertical-align: top;\n",
       "    }\n",
       "\n",
       "    .dataframe thead th {\n",
       "        text-align: right;\n",
       "    }\n",
       "</style>\n",
       "<table border=\"1\" class=\"dataframe\">\n",
       "  <thead>\n",
       "    <tr style=\"text-align: right;\">\n",
       "      <th></th>\n",
       "      <th>Total_Units</th>\n",
       "      <th>NAME</th>\n",
       "      <th>POP100</th>\n",
       "      <th>Percentage</th>\n",
       "    </tr>\n",
       "  </thead>\n",
       "  <tbody>\n",
       "    <tr>\n",
       "      <th>0</th>\n",
       "      <td>1454</td>\n",
       "      <td>Ward 1</td>\n",
       "      <td>85285</td>\n",
       "      <td>1.704872</td>\n",
       "    </tr>\n",
       "    <tr>\n",
       "      <th>1</th>\n",
       "      <td>260</td>\n",
       "      <td>Ward 2</td>\n",
       "      <td>89485</td>\n",
       "      <td>0.290551</td>\n",
       "    </tr>\n",
       "    <tr>\n",
       "      <th>2</th>\n",
       "      <td>444</td>\n",
       "      <td>Ward 3</td>\n",
       "      <td>85301</td>\n",
       "      <td>0.520510</td>\n",
       "    </tr>\n",
       "    <tr>\n",
       "      <th>3</th>\n",
       "      <td>632</td>\n",
       "      <td>Ward 4</td>\n",
       "      <td>84660</td>\n",
       "      <td>0.746515</td>\n",
       "    </tr>\n",
       "    <tr>\n",
       "      <th>4</th>\n",
       "      <td>2252</td>\n",
       "      <td>Ward 5</td>\n",
       "      <td>89617</td>\n",
       "      <td>2.512916</td>\n",
       "    </tr>\n",
       "    <tr>\n",
       "      <th>5</th>\n",
       "      <td>2434</td>\n",
       "      <td>Ward 6</td>\n",
       "      <td>84266</td>\n",
       "      <td>2.888472</td>\n",
       "    </tr>\n",
       "    <tr>\n",
       "      <th>6</th>\n",
       "      <td>2310</td>\n",
       "      <td>Ward 7</td>\n",
       "      <td>85685</td>\n",
       "      <td>2.695921</td>\n",
       "    </tr>\n",
       "    <tr>\n",
       "      <th>7</th>\n",
       "      <td>4292</td>\n",
       "      <td>Ward 8</td>\n",
       "      <td>85246</td>\n",
       "      <td>5.034840</td>\n",
       "    </tr>\n",
       "  </tbody>\n",
       "</table>\n",
       "</div>"
      ],
      "text/plain": [
       "   Total_Units    NAME  POP100  Percentage\n",
       "0         1454  Ward 1   85285    1.704872\n",
       "1          260  Ward 2   89485    0.290551\n",
       "2          444  Ward 3   85301    0.520510\n",
       "3          632  Ward 4   84660    0.746515\n",
       "4         2252  Ward 5   89617    2.512916\n",
       "5         2434  Ward 6   84266    2.888472\n",
       "6         2310  Ward 7   85685    2.695921\n",
       "7         4292  Ward 8   85246    5.034840"
      ]
     },
     "execution_count": 2,
     "metadata": {},
     "output_type": "execute_result"
    }
   ],
   "source": [
    "housingcal.affordable_housing_proportion()\n",
    "# this last code calling the function is not running"
   ]
  },
  {
   "cell_type": "code",
   "execution_count": null,
   "id": "18c6bf21-a80c-462b-a9da-4d402110d012",
   "metadata": {},
   "outputs": [],
   "source": []
  }
 ],
 "metadata": {
  "colab": {
   "provenance": [
    {
     "file_id": "https://github.com/ncsg/ursp688y_sp2024/blob/main/exercises/exercise04/exercise04.ipynb",
     "timestamp": 1708980716934
    }
   ]
  },
  "kernelspec": {
   "display_name": "Python 3 (ipykernel)",
   "language": "python",
   "name": "python3"
  },
  "language_info": {
   "codemirror_mode": {
    "name": "ipython",
    "version": 3
   },
   "file_extension": ".py",
   "mimetype": "text/x-python",
   "name": "python",
   "nbconvert_exporter": "python",
   "pygments_lexer": "ipython3",
   "version": "3.10.12"
  }
 },
 "nbformat": 4,
 "nbformat_minor": 5
}
