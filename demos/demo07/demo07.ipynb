{
 "cells": [
  {
   "cell_type": "markdown",
   "id": "13b62af4-9c03-46d7-805c-cebadd28185e",
   "metadata": {
    "editable": true,
    "id": "13b62af4-9c03-46d7-805c-cebadd28185e",
    "tags": []
   },
   "source": [
    "Urban Data Science & Smart Cities <br>\n",
    "URSP688Y <br>\n",
    "Instructor: Chester Harvey <br>\n",
    "Urban Studies & Planning <br>\n",
    "National Center for Smart Growth <br>\n",
    "University of Maryland"
   ]
  },
  {
   "cell_type": "markdown",
   "id": "c01d7dab-14e4-4222-b82b-8d400bce0e2c",
   "metadata": {
    "id": "c01d7dab-14e4-4222-b82b-8d400bce0e2c"
   },
   "source": [
    "[<img src=\"https://colab.research.google.com/assets/colab-badge.svg\"> Clean version](https://colab.research.google.com/github/ncsg/ursp688y_sp2024/blob/main/demos/demo07/demo07.ipynb)"
   ]
  },
  {
   "cell_type": "markdown",
   "id": "e7a0a5da-0108-408b-b306-58f59b895ad8",
   "metadata": {
    "id": "e7a0a5da-0108-408b-b306-58f59b895ad8"
   },
   "source": [
    "[<img src=\"https://colab.research.google.com/assets/colab-badge.svg\"> Modified in class](https://colab.research.google.com/drive/15wN72W1lxUJLPSFnLw9KHaTT4sbsaqO7?usp=sharing)"
   ]
  },
  {
   "cell_type": "markdown",
   "id": "b7d7937e-5289-44bb-ac8b-1e0b03a74e0b",
   "metadata": {
    "id": "b7d7937e-5289-44bb-ac8b-1e0b03a74e0b"
   },
   "source": [
    "# Demo 7 - Geospatial Data\n",
    "\n",
    "- Coordinate systems\n",
    "- Points from XY\n",
    "- Loading shapefiles and geojsons\n",
    "- Proximity analysis\n",
    "    - Measuring distance\n",
    "    - Buffering\n",
    "- Overlay analysis\n",
    "- Spatial joining"
   ]
  },
  {
   "cell_type": "code",
   "execution_count": null,
   "id": "c6803f96-73af-497a-bd12-d3dec85df8b6",
   "metadata": {},
   "outputs": [],
   "source": [
    "import os\n",
    "import pandas as pd\n",
    "\n",
    "# # Mount Google Drive\n",
    "# from google.colab import drive\n",
    "# drive.mount('/content/drive')\n",
    "\n",
    "# # Set the working directory\n",
    "# # You will need to change this to your own folder on Google Drive\n",
    "# os.chdir('/content/drive/MyDrive/Teaching/URSP688Y Spring 2024/demos/week07')"
   ]
  },
  {
   "cell_type": "markdown",
   "id": "67311c8c-b72a-48a6-a9a0-3f9c5bfe3c1b",
   "metadata": {},
   "source": [
    "## Geospatial data fundamentals\n",
    "- Basic geometry types:\n",
    "    - Points\n",
    "    - Linestrings\n",
    "    - Polygons\n",
    "\n",
    "<img alt=\"points, lines, and polygons\" width=500 src=\"https://datacarpentry.org/organization-geospatial/fig/dc-spatial-vector/pnt_line_poly.png\">\n",
    "\n",
    "- Spatial analysis (with vector data) is essentially just Euclidean geometry (remember the Pythagorean theorem?)\n",
    "\n",
    "<img alt=\"pythagorean theorem\" width=500 src=\"https://www.katesmathlessons.com/uploads/1/6/1/0/1610286/published/how-to-use-the-pythagorean-theorem-to-find-distance-between-points-on-coordinate-plane-2.png?1595954050\">"
   ]
  },
  {
   "cell_type": "markdown",
   "id": "57edb1da-320c-4de9-9b67-6dc50af18ada",
   "metadata": {},
   "source": [
    "## Geospatial data are everywhere\n",
    "\n",
    "DC affordable housing: https://opendata.dc.gov/datasets/DCGIS::affordable-housing/about"
   ]
  },
  {
   "cell_type": "markdown",
   "id": "51ae40bb-962f-40cf-ae99-79f0f54f2b07",
   "metadata": {},
   "source": [
    "### Read CSV"
   ]
  },
  {
   "cell_type": "markdown",
   "id": "d0018da9-96a1-47af-859a-22b4ee7d0126",
   "metadata": {},
   "source": [
    "### Coordinate Systems\n",
    "- Latitude and longitude\n",
    "- Map projections"
   ]
  },
  {
   "cell_type": "markdown",
   "id": "8829f1e3-9444-417a-b6b0-a20320632a38",
   "metadata": {},
   "source": [
    "### Convert XY coordinates to points in a GeoDataFrame\n",
    "\n",
    "Here are some quick references for the package (GeoPandas), function (`points_from_xy`), and Class (a GeoDataFrame) we'll use to do this. We can also quickly make a very simple map with the `plot` method.\n",
    "\n",
    "- [GeoPandas](https://geopandas.org/en/stable/getting_started/introduction.html)\n",
    "\n",
    "- [`points_from_xy`](https://geopandas.org/en/stable/docs/reference/api/geopandas.points_from_xy.html)\n",
    "\n",
    "- [GeoDataFrame](https://geopandas.org/en/stable/docs/reference/api/geopandas.GeoDataFrame.html)\n",
    "\n",
    "- [`plot`](https://geopandas.org/en/stable/docs/user_guide/mapping.html) method\n",
    "\n"
   ]
  },
  {
   "cell_type": "markdown",
   "id": "83ed3b47-ad5e-4b3c-84f1-2b8a0b0b8e5d",
   "metadata": {},
   "source": [
    "### Read Shapefile "
   ]
  },
  {
   "cell_type": "markdown",
   "id": "06070678-0e43-4e3b-b68d-e67d50bded8a",
   "metadata": {},
   "source": [
    "### Read GeoJSON"
   ]
  },
  {
   "cell_type": "markdown",
   "id": "4fbeeb4a-7df0-4f55-b41a-f16f4948c5c8",
   "metadata": {},
   "source": [
    "## Proximity"
   ]
  },
  {
   "cell_type": "markdown",
   "id": "34ebe3e9-b671-4d1a-b7d6-fc08b99228d8",
   "metadata": {},
   "source": [
    "### How far is each affordable housing project from Metro Center?"
   ]
  },
  {
   "cell_type": "markdown",
   "id": "59022017-0efe-46ad-8bae-93f71b6118e7",
   "metadata": {},
   "source": [
    "#### Haversine formula"
   ]
  },
  {
   "cell_type": "markdown",
   "id": "f4e0e575-8570-4300-9f73-24a023e5fc79",
   "metadata": {},
   "source": [
    "#### Changing coordinate systems"
   ]
  },
  {
   "cell_type": "markdown",
   "id": "af693c93-87c2-4c7e-a95d-ddcd18bc2251",
   "metadata": {},
   "source": [
    "### Buffer\n",
    "\n",
    "- [`buffer`](https://geopandas.org/en/stable/docs/reference/api/geopandas.GeoSeries.buffer.html) method"
   ]
  },
  {
   "cell_type": "markdown",
   "id": "bdaf4367-ab8e-459d-b0f0-e741d737d2ca",
   "metadata": {},
   "source": [
    "#### Polygon geometries\n",
    "\n",
    "- [Shapely](https://shapely.readthedocs.io/en/stable/geometry.html) geometry types: Point, LineString, Polygon"
   ]
  },
  {
   "cell_type": "markdown",
   "id": "638da885-7615-41ae-ab34-e01b67b006bb",
   "metadata": {},
   "source": [
    "## Overlay/Spatial Join"
   ]
  },
  {
   "cell_type": "markdown",
   "id": "3b5f0459-f60d-4464-93ae-a51304b407e9",
   "metadata": {},
   "source": [
    "### How many projects are in each census tract?\n",
    "\n",
    "- [Population by Tract from Census Reporter](https://censusreporter.org/data/table/?table=B01003&geo_ids=16000US1150000,140|16000US1150000&primary_geo_id=16000US1150000)\n",
    "\n",
    "- [`sjoin`](https://geopandas.org/en/stable/gallery/spatial_joins.html) function"
   ]
  },
  {
   "cell_type": "markdown",
   "id": "8dd8e8f9-3280-4599-82ef-c18232a9d994",
   "metadata": {},
   "source": [
    "### How many units are in each census tract?"
   ]
  },
  {
   "cell_type": "code",
   "execution_count": null,
   "id": "4b495173-6d9d-4391-b820-d9f078a0bd79",
   "metadata": {},
   "outputs": [],
   "source": []
  }
 ],
 "metadata": {
  "colab": {
   "provenance": []
  },
  "kernelspec": {
   "display_name": "Python 3 (ipykernel)",
   "language": "python",
   "name": "python3"
  },
  "language_info": {
   "codemirror_mode": {
    "name": "ipython",
    "version": 3
   },
   "file_extension": ".py",
   "mimetype": "text/x-python",
   "name": "python",
   "nbconvert_exporter": "python",
   "pygments_lexer": "ipython3",
   "version": "3.10.12"
  }
 },
 "nbformat": 4,
 "nbformat_minor": 5
}
