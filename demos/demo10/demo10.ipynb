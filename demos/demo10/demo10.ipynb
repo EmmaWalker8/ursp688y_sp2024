{
 "cells": [
  {
   "cell_type": "markdown",
   "id": "13b62af4-9c03-46d7-805c-cebadd28185e",
   "metadata": {
    "editable": true,
    "id": "13b62af4-9c03-46d7-805c-cebadd28185e",
    "tags": []
   },
   "source": [
    "Urban Data Science & Smart Cities <br>\n",
    "URSP688Y <br>\n",
    "Instructor: Chester Harvey <br>\n",
    "Urban Studies & Planning <br>\n",
    "National Center for Smart Growth <br>\n",
    "University of Maryland"
   ]
  },
  {
   "cell_type": "markdown",
   "id": "c01d7dab-14e4-4222-b82b-8d400bce0e2c",
   "metadata": {
    "id": "c01d7dab-14e4-4222-b82b-8d400bce0e2c"
   },
   "source": [
    "[<img src=\"https://colab.research.google.com/assets/colab-badge.svg\"> Clean version](https://colab.research.google.com/github/ncsg/ursp688y_sp2024/blob/main/demos/demo10/demo10.ipynb)"
   ]
  },
  {
   "cell_type": "markdown",
   "id": "e7a0a5da-0108-408b-b306-58f59b895ad8",
   "metadata": {
    "id": "e7a0a5da-0108-408b-b306-58f59b895ad8"
   },
   "source": [
    "[<img src=\"https://colab.research.google.com/assets/colab-badge.svg\"> Modified in class](https://colab.research.google.com/drive/1yWxf4Jvh0vEEByjydrp4B4GzwHSGUYr0?usp=sharing) [**UPDATE**]"
   ]
  },
  {
   "cell_type": "markdown",
   "id": "b7d7937e-5289-44bb-ac8b-1e0b03a74e0b",
   "metadata": {
    "id": "b7d7937e-5289-44bb-ac8b-1e0b03a74e0b"
   },
   "source": [
    "# Demo 10 - Network Analysis"
   ]
  },
  {
   "cell_type": "code",
   "execution_count": 1,
   "id": "c6803f96-73af-497a-bd12-d3dec85df8b6",
   "metadata": {},
   "outputs": [],
   "source": [
    "import os\n",
    "import pandas as pd\n",
    "import geopandas as gpd\n",
    "\n",
    "# # Mount Google Drive\n",
    "# from google.colab import drive\n",
    "# drive.mount('/content/drive')\n",
    "\n",
    "# # Set the working directory\n",
    "# # You will need to change this to your own folder on Google Drive\n",
    "# os.chdir('/content/drive/MyDrive/Teaching/URSP688Y Spring 2024/demos/week07')"
   ]
  },
  {
   "cell_type": "code",
   "execution_count": 3,
   "id": "1ace4742-f3d1-4d61-a7ae-ac659ced4b5f",
   "metadata": {},
   "outputs": [],
   "source": [
    "!pip install osmnx"
   ]
  },
  {
   "cell_type": "code",
   "execution_count": null,
   "id": "77076512-2828-4d36-9844-99ffc8d387b8",
   "metadata": {},
   "outputs": [],
   "source": []
  }
 ],
 "metadata": {
  "colab": {
   "provenance": []
  },
  "kernelspec": {
   "display_name": "Python 3 (ipykernel)",
   "language": "python",
   "name": "python3"
  },
  "language_info": {
   "codemirror_mode": {
    "name": "ipython",
    "version": 3
   },
   "file_extension": ".py",
   "mimetype": "text/x-python",
   "name": "python",
   "nbconvert_exporter": "python",
   "pygments_lexer": "ipython3",
   "version": "3.10.12"
  }
 },
 "nbformat": 4,
 "nbformat_minor": 5
}
